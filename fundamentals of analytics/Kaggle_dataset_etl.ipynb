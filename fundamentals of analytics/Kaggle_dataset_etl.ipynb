{
 "cells": [
  {
   "cell_type": "code",
   "execution_count": null,
   "id": "eec21fdc-5aa5-41b3-a838-7c56ebd6cacb",
   "metadata": {},
   "outputs": [],
   "source": [
    "import pandas as pd\n",
    "import os\n",
    "myEmail = pd.read_csv('Data/emails_final.csv')\n",
    "myEmail.drop(columns=['Unnamed: 0','labels'], inplace=True)\n",
    "myEmail['ham_spam'] = ''\n",
    "def ham_spam(row):\n",
    "if row['class_labels'] == 'Spam':\n",
    "row['ham_spam'] = 1\n",
    "return row['ham_spam']\n",
    "else:\n",
    "row['ham_spam'] = 0\n",
    "return row['ham_spam']\n",
    "myEmail['ham_spam'] = myEmail.apply(ham_spam,axis=1)\n",
    "class_list = ['Promotions','Spam']\n",
    "myEmail = myEmail[myEmail['class_labels'].isin(class_list)]\n",
    "extra = pd.read_csv('Data/messages.csv')\n",
    "extra.label.value_counts()\n",
    "extra_spam = extra[extra['label']==1]\n",
    "extra_spam['txt_label']= 'spam'\n",
    "spam_ham = pd.read_csv(\"Data/spam_ham_dataset.csv\")\n",
    "spam_ham.label_num.value_counts()\n",
    "spam = spam_ham[spam_ham['label_num']==1]\n",
    "data = {'subject':'','text':spam['text'],'class_labels':spam['label'],\n",
    "'ham_spam':spam['label_num']}\n",
    "Final Dataset and Visualizations\n",
    "append_1 = pd.DataFrame(data)\n",
    "data = {'subject':\n",
    "extra_spam['subject'],'text':extra_spam['message'],'class_labels':extra_spam['txt_label'\n",
    "], 'ham_spam':extra_spam['label']}\n",
    "append_2 = pd.DataFrame(data)\n",
    "results = myEmail.append([append_1,append_2])\n",
    "ham = results[results['ham_spam']==0]\n",
    "ham['class_labels'] = 'ham'\n",
    "spam = results[results['ham_spam']==1]\n",
    "spam['class_labels'] = 'spam'\n",
    "final = ham.append(spam)\n",
    "final = final.sample(len(final)).reset_index(drop=True)\n"
   ]
  }
 ],
 "metadata": {
  "kernelspec": {
   "display_name": "Python 3",
   "language": "python",
   "name": "python3"
  },
  "language_info": {
   "codemirror_mode": {
    "name": "ipython",
    "version": 3
   },
   "file_extension": ".py",
   "mimetype": "text/x-python",
   "name": "python",
   "nbconvert_exporter": "python",
   "pygments_lexer": "ipython3",
   "version": "3.9.4"
  }
 },
 "nbformat": 4,
 "nbformat_minor": 5
}
