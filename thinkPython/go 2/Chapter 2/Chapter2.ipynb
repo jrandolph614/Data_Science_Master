{
 "cells": [
  {
   "cell_type": "code",
   "execution_count": 11,
   "id": "85728dc2",
   "metadata": {},
   "outputs": [],
   "source": [
    "def time_add(h,m):\n",
    "    pace_1 = minute_calc(8,15) *2\n",
    "    pace_2 = minute_calc(7,12)*3\n",
    "    total = pace_1 + pace_2\n",
    "    minutes = total //60 +m \n",
    "    seconds = total % 60\n",
    "    hours = minutes // 60 \n",
    "    minutes -= (hours*60) \n",
    "    \n",
    "    return ('{}:{}:{}'.format(hours+h,minutes,seconds))\n",
    "\n",
    "\n",
    "\n",
    "def minute_calc(m,s):\n",
    "    res = m*60 + s\n",
    "    return res"
   ]
  },
  {
   "cell_type": "code",
   "execution_count": 12,
   "id": "2236fff2",
   "metadata": {},
   "outputs": [
    {
     "data": {
      "text/plain": [
       "'7:30:6'"
      ]
     },
     "execution_count": 12,
     "metadata": {},
     "output_type": "execute_result"
    }
   ],
   "source": [
    "time_add(6,52)"
   ]
  },
  {
   "cell_type": "code",
   "execution_count": 7,
   "id": "f3040e86",
   "metadata": {},
   "outputs": [
    {
     "data": {
      "text/plain": [
       "2"
      ]
     },
     "execution_count": 7,
     "metadata": {},
     "output_type": "execute_result"
    }
   ],
   "source": [
    "120 //60"
   ]
  },
  {
   "cell_type": "code",
   "execution_count": null,
   "id": "3014dc08",
   "metadata": {},
   "outputs": [],
   "source": []
  }
 ],
 "metadata": {
  "kernelspec": {
   "display_name": "Python 3",
   "language": "python",
   "name": "python3"
  },
  "language_info": {
   "codemirror_mode": {
    "name": "ipython",
    "version": 3
   },
   "file_extension": ".py",
   "mimetype": "text/x-python",
   "name": "python",
   "nbconvert_exporter": "python",
   "pygments_lexer": "ipython3",
   "version": "3.8.8"
  }
 },
 "nbformat": 4,
 "nbformat_minor": 5
}
