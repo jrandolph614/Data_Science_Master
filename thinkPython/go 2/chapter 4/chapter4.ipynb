{
 "cells": [
  {
   "cell_type": "code",
   "execution_count": 1,
   "id": "b7b62af1",
   "metadata": {},
   "outputs": [],
   "source": [
    "from swampy.TurtleWorld import *\n",
    "import math"
   ]
  },
  {
   "cell_type": "code",
   "execution_count": 5,
   "id": "5dd44b47",
   "metadata": {},
   "outputs": [],
   "source": [
    "world = TurtleWorld()\n",
    "bob=Turtle()\n",
    "\n"
   ]
  },
  {
   "cell_type": "code",
   "execution_count": 5,
   "id": "37b437aa",
   "metadata": {},
   "outputs": [
    {
     "name": "stdout",
     "output_type": "stream",
     "text": [
      "KeyboardInterrupt\n"
     ]
    }
   ],
   "source": [
    "fd(bob,100)\n",
    "lt(bob)\n",
    "fd(bob,100)\n",
    "wait_for_user()"
   ]
  },
  {
   "cell_type": "code",
   "execution_count": 3,
   "id": "e952d780",
   "metadata": {},
   "outputs": [
    {
     "name": "stdout",
     "output_type": "stream",
     "text": [
      "<swampy.TurtleWorld.Turtle object at 0x0000019125E9DD30>\n"
     ]
    }
   ],
   "source": [
    "def square(bob):\n",
    "    world = TurtleWorld()\n",
    "    print(bob)\n",
    "    fd(bob,100)\n",
    "    lt(bob)\n",
    "    fd(bob,100)\n",
    "    lt(bob)\n",
    "    fd(bob,100)\n",
    "    lt(bob)\n",
    "    fd(bob,100)\n",
    "    \n",
    "square(Turtle())"
   ]
  },
  {
   "cell_type": "code",
   "execution_count": null,
   "id": "f3024ade",
   "metadata": {},
   "outputs": [],
   "source": []
  }
 ],
 "metadata": {
  "kernelspec": {
   "display_name": "Python 3",
   "language": "python",
   "name": "python3"
  },
  "language_info": {
   "codemirror_mode": {
    "name": "ipython",
    "version": 3
   },
   "file_extension": ".py",
   "mimetype": "text/x-python",
   "name": "python",
   "nbconvert_exporter": "python",
   "pygments_lexer": "ipython3",
   "version": "3.9.4"
  }
 },
 "nbformat": 4,
 "nbformat_minor": 5
}
