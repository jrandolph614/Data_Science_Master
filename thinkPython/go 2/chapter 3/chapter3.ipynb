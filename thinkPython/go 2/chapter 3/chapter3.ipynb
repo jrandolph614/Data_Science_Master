{
 "cells": [
  {
   "cell_type": "code",
   "execution_count": 4,
   "id": "2270cfe4",
   "metadata": {},
   "outputs": [
    {
     "name": "stdout",
     "output_type": "stream",
     "text": [
      "                                                                  allen\n"
     ]
    }
   ],
   "source": [
    "def right_justify(s):\n",
    "    length = len(s)\n",
    "    print(' '*(70-length),s)\n",
    "right_justify('allen')"
   ]
  },
  {
   "cell_type": "code",
   "execution_count": 12,
   "id": "f5bfb743",
   "metadata": {},
   "outputs": [
    {
     "name": "stdout",
     "output_type": "stream",
     "text": [
      "                                                                  allen\n",
      "                                                                  allen\n",
      "                                                                  allen\n",
      "                                                                  allen\n",
      "                                                                  allen\n",
      "                                                                  allen\n"
     ]
    }
   ],
   "source": [
    "\n",
    "def do_twice(f,aug):\n",
    "    f(aug)\n",
    "    f(aug)\n",
    "do_twice(right_justify,'allen')\n",
    "def do_four(f,aug):\n",
    "    do_twice(f,aug)\n",
    "    do_twice(f,aug)\n",
    "do_four(right_justify,'allen')"
   ]
  },
  {
   "cell_type": "code",
   "execution_count": 19,
   "id": "c866c98d",
   "metadata": {},
   "outputs": [
    {
     "name": "stdout",
     "output_type": "stream",
     "text": [
      "+----+----+----+----+\n",
      "|    |    |    |    |\n",
      "|    |    |    |    |\n",
      "|    |    |    |    |\n",
      "|    |    |    |    |\n",
      "+----+----+----+----+\n",
      "|    |    |    |    |\n",
      "|    |    |    |    |\n",
      "|    |    |    |    |\n",
      "|    |    |    |    |\n",
      "+----+----+----+----+\n",
      "|    |    |    |    |\n",
      "|    |    |    |    |\n",
      "|    |    |    |    |\n",
      "|    |    |    |    |\n",
      "+----+----+----+----+\n",
      "|    |    |    |    |\n",
      "|    |    |    |    |\n",
      "|    |    |    |    |\n",
      "|    |    |    |    |\n",
      "+----+----+----+----+\n"
     ]
    }
   ],
   "source": [
    "def plus():\n",
    "    print('+----+----+----+----+')\n",
    "def pipe():\n",
    "    print('|    |    |    |    |')\n",
    "def box():\n",
    "    for i in range(21):\n",
    "        if i%5==0:\n",
    "            plus()\n",
    "        else:\n",
    "            pipe()\n",
    "box()"
   ]
  },
  {
   "cell_type": "code",
   "execution_count": 21,
   "id": "69259429",
   "metadata": {},
   "outputs": [
    {
     "name": "stdout",
     "output_type": "stream",
     "text": [
      "Collecting turtle\n",
      "  Downloading turtle-0.0.2.tar.gz (11 kB)\n",
      "  Downloading turtle-0.0.1.tar.gz (10 kB)\n",
      "Collecting PyYAML>=3.08\n",
      "  Using cached PyYAML-5.4.1-cp38-cp38-win_amd64.whl (213 kB)\n",
      "Building wheels for collected packages: turtle\n",
      "  Building wheel for turtle (setup.py): started\n",
      "  Building wheel for turtle (setup.py): finished with status 'done'\n",
      "  Created wheel for turtle: filename=turtle-0.0.1-py3-none-any.whl size=22269 sha256=34aa825b1542030c4b300d5897c047e6c529e3bd2859feb74647a3c24b6b8862\n",
      "  Stored in directory: c:\\users\\jrand\\appdata\\local\\pip\\cache\\wheels\\5b\\23\\4b\\6083f5fc120380f2d31387fda5c60985a0e21d1ab55bfcdb0e\n",
      "Successfully built turtle\n",
      "Installing collected packages: PyYAML, turtle\n",
      "Successfully installed PyYAML-5.4.1 turtle-0.0.1\n"
     ]
    },
    {
     "name": "stderr",
     "output_type": "stream",
     "text": [
      "    ERROR: Command errored out with exit status 1:\n",
      "     command: 'C:\\Users\\jrand\\miniconda3\\envs\\tensorflow\\python.exe' -c 'import sys, setuptools, tokenize; sys.argv[0] = '\"'\"'C:\\\\Users\\\\jrand\\\\AppData\\\\Local\\\\Temp\\\\pip-install-zanuzwph\\\\turtle_e0a503883c2a4730956b9365fa8ffc3c\\\\setup.py'\"'\"'; __file__='\"'\"'C:\\\\Users\\\\jrand\\\\AppData\\\\Local\\\\Temp\\\\pip-install-zanuzwph\\\\turtle_e0a503883c2a4730956b9365fa8ffc3c\\\\setup.py'\"'\"';f=getattr(tokenize, '\"'\"'open'\"'\"', open)(__file__);code=f.read().replace('\"'\"'\\r\\n'\"'\"', '\"'\"'\\n'\"'\"');f.close();exec(compile(code, __file__, '\"'\"'exec'\"'\"'))' egg_info --egg-base 'C:\\Users\\jrand\\AppData\\Local\\Temp\\pip-pip-egg-info-w64tu82_'\n",
      "         cwd: C:\\Users\\jrand\\AppData\\Local\\Temp\\pip-install-zanuzwph\\turtle_e0a503883c2a4730956b9365fa8ffc3c\\\n",
      "    Complete output (6 lines):\n",
      "    Traceback (most recent call last):\n",
      "      File \"<string>\", line 1, in <module>\n",
      "      File \"C:\\Users\\jrand\\AppData\\Local\\Temp\\pip-install-zanuzwph\\turtle_e0a503883c2a4730956b9365fa8ffc3c\\setup.py\", line 40\n",
      "        except ValueError, ve:\n",
      "                         ^\n",
      "    SyntaxError: invalid syntax\n",
      "    ----------------------------------------\n",
      "WARNING: Discarding https://files.pythonhosted.org/packages/ff/f0/21a42e9e424d24bdd0e509d5ed3c7dfb8f47d962d9c044dba903b0b4a26f/turtle-0.0.2.tar.gz#sha256=edff7868ddfeba60cb2dcc3fb2218f29fd042ab697dcac0723e3e16a330979dd (from https://pypi.org/simple/turtle/). Command errored out with exit status 1: python setup.py egg_info Check the logs for full command output.\n"
     ]
    }
   ],
   "source": [
    "!pip install turtle"
   ]
  },
  {
   "cell_type": "code",
   "execution_count": 22,
   "id": "e44fef98",
   "metadata": {},
   "outputs": [],
   "source": [
    "import turtle"
   ]
  },
  {
   "cell_type": "code",
   "execution_count": null,
   "id": "2c50929b",
   "metadata": {},
   "outputs": [],
   "source": []
  }
 ],
 "metadata": {
  "kernelspec": {
   "display_name": "Python 3",
   "language": "python",
   "name": "python3"
  },
  "language_info": {
   "codemirror_mode": {
    "name": "ipython",
    "version": 3
   },
   "file_extension": ".py",
   "mimetype": "text/x-python",
   "name": "python",
   "nbconvert_exporter": "python",
   "pygments_lexer": "ipython3",
   "version": "3.8.8"
  }
 },
 "nbformat": 4,
 "nbformat_minor": 5
}
