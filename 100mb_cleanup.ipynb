{
 "cells": [
  {
   "cell_type": "code",
   "execution_count": 1,
   "id": "3d30bba3-800c-429a-829a-c99baf5c509b",
   "metadata": {},
   "outputs": [],
   "source": [
    "#dds all of the data over 100mb to .gitignore\n",
    "! find . -size +100M | cat >> .gitignore"
   ]
  },
  {
   "cell_type": "code",
   "execution_count": 2,
   "id": "1f089cd6-7754-4801-a047-657c7ff7c8b3",
   "metadata": {},
   "outputs": [
    {
     "name": "stdout",
     "output_type": "stream",
     "text": [
      "On branch main\n",
      "Your branch is up to date with 'origin/main'.\n",
      "\n",
      "Changes not staged for commit:\n",
      "  (use \"git add <file>...\" to update what will be committed)\n",
      "  (use \"git restore <file>...\" to discard changes in working directory)\n",
      "\tmodified:   .gitignore\n",
      "\tmodified:   financial_python/SMA/simpleMovingAverage.ipynb\n",
      "\n",
      "Untracked files:\n",
      "  (use \"git add <file>...\" to include in what will be committed)\n",
      "\t.ipynb_checkpoints/\n",
      "\t100mb_cleanup.ipynb\n",
      "\tStatistics/hw10/\n",
      "\tStatistics/hw3/.ipynb_checkpoints/\n",
      "\tStatistics/hw3/Apllied_Regression_Lecture_3_1_SLR.pdf\n",
      "\tStatistics/hw3/Apllied_Regression_Lecture_3_2_SLR.pdf\n",
      "\tStatistics/hw3/Applied_Regression_Lecture_3_4_SLR.pdf\n",
      "\tStatistics/hw3/Home_Work_3_2.pdf\n",
      "\tStatistics/hw3/Untitled.ipynb\n",
      "\tStatistics/hw4/\n",
      "\tStatistics/hw5/\n",
      "\tStatistics/hw6/\n",
      "\tStatistics/hw7/\n",
      "\tStatistics/hw_9/\n",
      "\tStatistics/quiz1/\n",
      "\tStatistics/scratch.Rmd\n",
      "\tStatistics/scratch.nb.html\n",
      "\tStatistics/test1/\n",
      "\tStatistics/test2/\n",
      "\tStatistics/test3/\n",
      "\tdataStructures/linkedList/.ipynb_checkpoints/Untitled-checkpoint.ipynb\n",
      "\tdataStructures/linkedList/Untitled.ipynb\n",
      "\tfinancial_python/Williams_Fractal_Indicator/.ipynb_checkpoints/Untitled-checkpoint.ipynb\n",
      "\tfinancial_python/Williams_Fractal_Indicator/Untitled.ipynb\n",
      "\tfundamentals/\n",
      "\tthinkPython/regex/\n",
      "\n",
      "no changes added to commit (use \"git add\" and/or \"git commit -a\")\n"
     ]
    }
   ],
   "source": [
    "! git status "
   ]
  },
  {
   "cell_type": "code",
   "execution_count": null,
   "id": "c72943e0-ba70-4b5c-9d85-cc0d19422760",
   "metadata": {},
   "outputs": [],
   "source": [
    "! git commit"
   ]
  }
 ],
 "metadata": {
  "kernelspec": {
   "display_name": "Python 3",
   "language": "python",
   "name": "python3"
  },
  "language_info": {
   "codemirror_mode": {
    "name": "ipython",
    "version": 3
   },
   "file_extension": ".py",
   "mimetype": "text/x-python",
   "name": "python",
   "nbconvert_exporter": "python",
   "pygments_lexer": "ipython3",
   "version": "3.9.4"
  }
 },
 "nbformat": 4,
 "nbformat_minor": 5
}
