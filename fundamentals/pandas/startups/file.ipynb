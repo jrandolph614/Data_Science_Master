{
 "cells": [
  {
   "cell_type": "code",
   "execution_count": 9,
   "id": "dbfd3a4a-c54d-4860-b599-d32c13f72bad",
   "metadata": {},
   "outputs": [
    {
     "name": "stderr",
     "output_type": "stream",
     "text": [
      "  % Total    % Received % Xferd  Average Speed   Time    Time     Time  Current\n",
      "                                 Dload  Upload   Total   Spent    Left  Speed\n",
      "\n",
      "  0     0    0     0    0     0      0      0 --:--:-- --:--:-- --:--:--     0\n",
      "100 93537  100 93537    0     0   853k      0 --:--:-- --:--:-- --:--:--  853k\n"
     ]
    }
   ],
   "source": [
    "# ! curl -o techcrunch.csv https://raw.githubusercontent.com/realpython/materials/master/generators/techcrunch.csv"
   ]
  },
  {
   "cell_type": "code",
   "execution_count": null,
   "id": "e5d1ee4e-c7bf-45c6-9667-0f2befb7544d",
   "metadata": {},
   "outputs": [],
   "source": [
    "file_name = \"techcrunch.csv\"\n",
    "lines  = (line for line in open(file_name))\n",
    "list_line = (s.rstrip().split(',') for s in lines)\n"
   ]
  }
 ],
 "metadata": {
  "kernelspec": {
   "display_name": "Python 3",
   "language": "python",
   "name": "python3"
  },
  "language_info": {
   "codemirror_mode": {
    "name": "ipython",
    "version": 3
   },
   "file_extension": ".py",
   "mimetype": "text/x-python",
   "name": "python",
   "nbconvert_exporter": "python",
   "pygments_lexer": "ipython3",
   "version": "3.9.4"
  }
 },
 "nbformat": 4,
 "nbformat_minor": 5
}
