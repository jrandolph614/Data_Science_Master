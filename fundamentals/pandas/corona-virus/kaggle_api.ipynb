{
 "cells": [
  {
   "cell_type": "code",
   "execution_count": 3,
   "id": "c3ec0f89-3ba8-440c-8e8f-aafc5c4e980a",
   "metadata": {
    "collapsed": true,
    "jupyter": {
     "outputs_hidden": true
    },
    "tags": []
   },
   "outputs": [
    {
     "name": "stdout",
     "output_type": "stream",
     "text": [
      "Requirement already satisfied: kaggle in c:\\users\\jrand\\miniconda3\\envs\\bigdata\\lib\\site-packages (1.5.12)\n",
      "Requirement already satisfied: six>=1.10 in c:\\users\\jrand\\miniconda3\\envs\\bigdata\\lib\\site-packages (from kaggle) (1.15.0)\n",
      "Requirement already satisfied: certifi in c:\\users\\jrand\\miniconda3\\envs\\bigdata\\lib\\site-packages (from kaggle) (2020.12.5)\n",
      "Requirement already satisfied: urllib3 in c:\\users\\jrand\\miniconda3\\envs\\bigdata\\lib\\site-packages (from kaggle) (1.26.4)\n",
      "Requirement already satisfied: tqdm in c:\\users\\jrand\\miniconda3\\envs\\bigdata\\lib\\site-packages (from kaggle) (4.59.0)\n",
      "Requirement already satisfied: python-dateutil in c:\\users\\jrand\\miniconda3\\envs\\bigdata\\lib\\site-packages (from kaggle) (2.8.1)\n",
      "Requirement already satisfied: requests in c:\\users\\jrand\\miniconda3\\envs\\bigdata\\lib\\site-packages (from kaggle) (2.25.1)\n",
      "Requirement already satisfied: python-slugify in c:\\users\\jrand\\miniconda3\\envs\\bigdata\\lib\\site-packages (from kaggle) (6.0.1)\n",
      "Requirement already satisfied: text-unidecode>=1.3 in c:\\users\\jrand\\miniconda3\\envs\\bigdata\\lib\\site-packages (from python-slugify->kaggle) (1.3)\n",
      "Requirement already satisfied: idna<3,>=2.5 in c:\\users\\jrand\\miniconda3\\envs\\bigdata\\lib\\site-packages (from requests->kaggle) (2.10)\n",
      "Requirement already satisfied: chardet<5,>=3.0.2 in c:\\users\\jrand\\miniconda3\\envs\\bigdata\\lib\\site-packages (from requests->kaggle) (4.0.0)\n",
      "Kaggle API 1.5.12\n"
     ]
    }
   ],
   "source": [
    "#Kaggle Data work with api\n",
    "!pip install kaggle\n",
    "!kaggle --version"
   ]
  },
  {
   "cell_type": "code",
   "execution_count": 4,
   "id": "6ddd9da6-afb3-4c9b-a6d5-0061ccf2a3c9",
   "metadata": {
    "collapsed": true,
    "jupyter": {
     "outputs_hidden": true
    },
    "tags": []
   },
   "outputs": [
    {
     "name": "stdout",
     "output_type": "stream",
     "text": [
      "usage: kaggle [-h] [-v] {competitions,c,datasets,d,kernels,k,config} ...\n",
      "\n",
      "optional arguments:\n",
      "  -h, --help            show this help message and exit\n",
      "  -v, --version         show program's version number and exit\n",
      "\n",
      "commands:\n",
      "  {competitions,c,datasets,d,kernels,k,config}\n",
      "                        Use one of:\n",
      "                        competitions {list, files, download, submit, submissions, leaderboard}\n",
      "                        datasets {list, files, download, create, version, init, metadata, status}\n",
      "                        config {view, set, unset}\n",
      "    competitions (c)    Commands related to Kaggle competitions\n",
      "    datasets (d)        Commands related to Kaggle datasets\n",
      "    kernels (k)         Commands related to Kaggle kernels\n",
      "    config              Configuration settings\n"
     ]
    }
   ],
   "source": [
    "!kaggle --help"
   ]
  },
  {
   "cell_type": "code",
   "execution_count": 7,
   "id": "d41e1385-9a74-456e-ac85-d5c41475c2f3",
   "metadata": {
    "collapsed": true,
    "jupyter": {
     "outputs_hidden": true
    },
    "tags": []
   },
   "outputs": [
    {
     "name": "stdout",
     "output_type": "stream",
     "text": [
      "ref                                                title                                                size  lastUpdated          downloadCount  voteCount  usabilityRating  \n",
      "-------------------------------------------------  --------------------------------------------------  -----  -------------------  -------------  ---------  ---------------  \n",
      "imdevskp/corona-virus-report                       COVID-19 Dataset                                     19MB  2020-08-07 03:47:47         182945       1540  1.0              \n",
      "sudalairajkumar/covid19-in-india                   COVID-19 in India                                   758KB  2021-08-11 04:14:10         148437       1741  0.9117647        \n",
      "gpreda/covid-world-vaccination-progress            COVID-19 World Vaccination Progress                   2MB  2022-02-17 22:44:31          75824       2002  1.0              \n",
      "roche-data-science-coalition/uncover               UNCOVER COVID-19 Challenge                          258MB  2021-10-31 00:04:09          21470       1280  0.875            \n",
      "tawsifurrahman/covid19-radiography-database        COVID-19 Radiography Database                       745MB  2021-03-06 18:17:46          41643        640  0.9375           \n",
      "andrewmvd/covid19-ct-scans                         COVID-19 CT scans                                     1GB  2020-04-23 12:29:33          14441        482  1.0              \n",
      "sudalairajkumar/covid19-in-usa                     COVID-19 in USA                                      10MB  2020-12-07 06:23:33          21475        280  0.9705882        \n",
      "sudalairajkumar/covid19-in-italy                   COVID-19 in Italy                                   441KB  2020-12-07 06:23:24          15379        236  1.0              \n",
      "iamhungundji/covid19-symptoms-checker              COVID-19 Symptoms Checker                           912KB  2020-03-21 06:05:59          13026        200  1.0              \n",
      "hendratno/covid19-indonesia                        COVID-19 Indonesia Dataset                          902KB  2021-12-04 01:59:45          13108        198  1.0              \n",
      "allen-institute-for-ai/CORD-19-research-challenge  COVID-19 Open Research Dataset Challenge (CORD-19)   14GB  2022-02-02 21:02:08         139386       9790  0.88235295       \n",
      "bachrr/covid-chest-xray                            COVID-19 chest xray                                 241MB  2020-05-15 00:30:50           9327        214  0.9411765        \n",
      "mariaren/covid19-healthy-diet-dataset              COVID-19 Healthy Diet Dataset                        82KB  2021-02-07 21:50:53          14966        371  1.0              \n",
      "atilamadai/covid19                                 COVID-19                                            281MB  2022-02-13 07:04:45           1940         42  0.88235295       \n",
      "kaushiksuresh147/covidvaccine-tweets               Covid Vaccine Tweets                                 60MB  2022-02-19 21:10:09           2819         68  1.0              \n",
      "tunguz/covid19-genomes                             COVID-19 Genomes                                    405KB  2021-06-17 19:59:48           1052         78  1.0              \n",
      "fireballbyedimyrnmom/us-counties-covid-19-dataset  US counties COVID 19 dataset                         24MB  2022-02-19 22:11:15          17825        413  0.9411765        \n",
      "anandhuh/latest-covid19-india-statewise-data       Latest Covid-19 India Statewise Data                  1KB  2022-02-13 16:41:17          19623        690  1.0              \n",
      "lalish99/covid19-mx                                COVID-19 MX                                          13MB  2020-07-24 03:43:20           1918         67  1.0              \n",
      "gpreda/all-covid19-vaccines-tweets                 COVID-19 All Vaccines Tweets                         30MB  2021-11-23 21:07:45           6478        205  1.0              \n"
     ]
    }
   ],
   "source": [
    "!kaggle datasets list -s covid"
   ]
  },
  {
   "cell_type": "code",
   "execution_count": 8,
   "id": "6b068b81-6429-4d66-9f65-8ae261c40a88",
   "metadata": {
    "collapsed": true,
    "jupyter": {
     "outputs_hidden": true
    },
    "tags": []
   },
   "outputs": [
    {
     "name": "stdout",
     "output_type": "stream",
     "text": [
      "ref                                                     title                                                size  lastUpdated          downloadCount  voteCount  usabilityRating  \n",
      "------------------------------------------------------  --------------------------------------------------  -----  -------------------  -------------  ---------  ---------------  \n",
      "allen-institute-for-ai/CORD-19-research-challenge       COVID-19 Open Research Dataset Challenge (CORD-19)   14GB  2022-02-02 21:02:08         139387       9790  0.88235295       \n",
      "sudalairajkumar/novel-corona-virus-2019-dataset         Novel Corona Virus 2019 Dataset                       9MB  2021-06-24 04:27:25         360912       5732  0.9705882        \n",
      "gpreda/covid-world-vaccination-progress                 COVID-19 World Vaccination Progress                   2MB  2022-02-17 22:44:31          75826       2002  1.0              \n",
      "sudalairajkumar/covid19-in-india                        COVID-19 in India                                   758KB  2021-08-11 04:14:10         148438       1741  0.9117647        \n",
      "imdevskp/corona-virus-report                            COVID-19 Dataset                                     19MB  2020-08-07 03:47:47         182947       1540  1.0              \n",
      "kimjihoo/coronavirusdataset                             [NeurIPS 2020] Data Science for COVID-19 (DS4C)       7MB  2020-07-13 14:07:31         100715       1518  1.0              \n",
      "roche-data-science-coalition/uncover                    UNCOVER COVID-19 Challenge                          258MB  2021-10-31 00:04:09          21470       1280  0.875            \n",
      "anandhuh/latest-covid19-india-statewise-data            Latest Covid-19 India Statewise Data                  1KB  2022-02-13 16:41:17          19623        690  1.0              \n",
      "tawsifurrahman/covid19-radiography-database             COVID-19 Radiography Database                       745MB  2021-03-06 18:17:46          41643        640  0.9375           \n",
      "andrewmvd/covid19-ct-scans                              COVID-19 CT scans                                     1GB  2020-04-23 12:29:33          14441        482  1.0              \n",
      "einsteindata4u/covid19                                   Diagnosis of COVID-19 and its clinical spectrum    556KB  2020-03-27 22:46:08          13190        421  0.47058824       \n",
      "fireballbyedimyrnmom/us-counties-covid-19-dataset       US counties COVID 19 dataset                         24MB  2022-02-19 22:11:15          17825        413  0.9411765        \n",
      "unanimad/corona-virus-brazil                            Coronavirus - Brazil                                 27MB  2021-05-24 10:36:52          43523        387  1.0              \n",
      "mariaren/covid19-healthy-diet-dataset                   COVID-19 Healthy Diet Dataset                        82KB  2021-02-07 21:50:53          14966        371  1.0              \n",
      "omercolakoglu/turkey-covid-19-vaccination-data          Turkey Covid 19 Vaccination Data                     13KB  2021-09-22 11:32:50           4420        368  0.4117647        \n",
      "antgoldbloom/covid19-data-from-john-hopkins-university  COVID-19 data from John Hopkins University            8MB  2022-02-19 06:02:31          15773        349  0.88235295       \n",
      "terenceshin/covid19s-impact-on-airport-traffic          COVID-19's Impact on Airport Traffic                125KB  2020-12-18 03:41:54          16618        348  1.0              \n",
      "imdevskp/covid19-corona-virus-india-dataset             COVID-19 Corona Virus India Dataset                   3MB  2020-08-07 03:46:00          22651        331  1.0              \n",
      "sudalairajkumar/covid19-in-usa                          COVID-19 in USA                                      10MB  2020-12-07 06:23:33          21475        280  0.9705882        \n",
      "sudalairajkumar/covid19-in-italy                        COVID-19 in Italy                                   441KB  2020-12-07 06:23:24          15381        236  1.0              \n"
     ]
    }
   ],
   "source": [
    "!kaggle datasets list -s covid --sort-by votes"
   ]
  },
  {
   "cell_type": "code",
   "execution_count": 11,
   "id": "3db1297a-a0e5-4d39-b451-44d6f1f0c8ad",
   "metadata": {
    "collapsed": true,
    "jupyter": {
     "outputs_hidden": true
    },
    "tags": []
   },
   "outputs": [
    {
     "name": "stdout",
     "output_type": "stream",
     "text": [
      "Downloading corona-virus-report.zip to C:\\Users\\jrand\\Documents\\GitHub\\Data_Science_Master\\pandas\n",
      "\n"
     ]
    },
    {
     "name": "stderr",
     "output_type": "stream",
     "text": [
      "\n",
      "  0%|          | 0.00/19.0M [00:00<?, ?B/s]\n",
      " 16%|#5        | 3.00M/19.0M [00:00<00:00, 27.0MB/s]\n",
      " 42%|####2     | 8.00M/19.0M [00:00<00:00, 36.6MB/s]\n",
      " 68%|######8   | 13.0M/19.0M [00:00<00:00, 39.6MB/s]\n",
      " 95%|#########4| 18.0M/19.0M [00:00<00:00, 41.3MB/s]\n",
      "100%|##########| 19.0M/19.0M [00:00<00:00, 39.8MB/s]\n"
     ]
    }
   ],
   "source": [
    "!kaggle datasets download imdevskp/corona-virus-report"
   ]
  },
  {
   "cell_type": "code",
   "execution_count": 12,
   "id": "5617c795-f8d6-4c2b-af3c-9a52fa3a324e",
   "metadata": {
    "collapsed": true,
    "jupyter": {
     "outputs_hidden": true
    },
    "tags": []
   },
   "outputs": [
    {
     "name": "stdout",
     "output_type": "stream",
     "text": [
      "Archive:  corona-virus-report.zip\n",
      "  inflating: country_wise_latest.csv  \n",
      "  inflating: covid_19_clean_complete.csv  \n",
      "  inflating: day_wise.csv            \n",
      "  inflating: full_grouped.csv        \n",
      "  inflating: usa_county_wise.csv     \n",
      "  inflating: worldometer_data.csv    \n"
     ]
    }
   ],
   "source": [
    "!unzip corona-virus-report.zip"
   ]
  },
  {
   "cell_type": "code",
   "execution_count": null,
   "id": "8f688d13-bc76-4c33-a698-0d0f53643598",
   "metadata": {},
   "outputs": [],
   "source": []
  }
 ],
 "metadata": {
  "kernelspec": {
   "display_name": "Python 3",
   "language": "python",
   "name": "python3"
  },
  "language_info": {
   "codemirror_mode": {
    "name": "ipython",
    "version": 3
   },
   "file_extension": ".py",
   "mimetype": "text/x-python",
   "name": "python",
   "nbconvert_exporter": "python",
   "pygments_lexer": "ipython3",
   "version": "3.9.4"
  }
 },
 "nbformat": 4,
 "nbformat_minor": 5
}
