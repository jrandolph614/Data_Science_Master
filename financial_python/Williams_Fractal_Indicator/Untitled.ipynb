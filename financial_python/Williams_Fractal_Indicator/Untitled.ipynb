{
 "cells": [
  {
   "cell_type": "code",
   "execution_count": 25,
   "id": "21a6338f-6995-452d-9b69-9e7490d103a7",
   "metadata": {},
   "outputs": [],
   "source": [
    "import yfinance as yf\n",
    "import pandas as pd \n",
    "import numpy as np\n",
    "import ta\n",
    "import datetime as dt"
   ]
  },
  {
   "cell_type": "code",
   "execution_count": 26,
   "id": "74d23ae9-0141-4666-a455-97ec07e4cbc1",
   "metadata": {},
   "outputs": [
    {
     "name": "stdout",
     "output_type": "stream",
     "text": [
      "[*********************100%***********************]  1 of 1 completed\n"
     ]
    }
   ],
   "source": [
    "df = yf.download('TQQQ', start='2022-01-15',interval='30m')"
   ]
  },
  {
   "cell_type": "code",
   "execution_count": 27,
   "id": "cddac037-d8ad-420c-b8d7-e2bc4f89921b",
   "metadata": {},
   "outputs": [],
   "source": [
    "def manipulations(df):\n",
    "    df['EMA200'] = ta.trend.ema_indicator(df.Close,window=200)\n",
    "    df['wf_Top_bool'] = np.where(\n",
    "    df['High']==df['High'].rolling(9,center=True).max(),True,False)\n",
    "    df['wf_top'] = np.where(\n",
    "    df['High']==df['High'].rolling(9,center=True).max(),df['High'],None\n",
    "    )\n",
    "    df['wf_top'] = df['wf_top'].ffill()\n",
    "    df.dropna(inplace=True)\n",
    "    df['Buy'] = np.where((df.Close> df.wf_top) & (df.Close>df.EMA200),1,0)\n",
    "    df['SL'] = np.where(df.Buy==1, df.Close-(df.Close-df.Low),0)\n",
    "    df['TP'] = np.where(df.Buy==1, df.Close+(df.Close-df.Low)*1.5,0)\n",
    "    return df\n",
    "def profits(df):\n",
    "    buys, sells = [],[]\n",
    "    for i in range(len(df)):\n",
    "        if df.Buy.iloc[i]:\n",
    "            buys.append(df.iloc[i].name)\n",
    "            for j in range(len(df)-i):\n",
    "                if df.TP.iloc[i] < df.Close.iloc[i+j] or \\\n",
    "                df.SL.iloc[i] > df.Close.iloc[i+j]:\n",
    "                    sells.append(df.iloc[i+j].name)\n",
    "                    break\n",
    "    frame = pd.DataFrame([buys,sells]).T.dropna()\n",
    "    frame.columns = ['Buys','Sells']\n",
    "    actualtrades = frame[frame.Buys>frame.Sells.shift(1)]\n",
    "    profits = (df.loc[actualtrades.Sells].Close.values - \\\n",
    "    df.loc[actualtrades.Buys].Close.values) / df.loc[actualtrades.Buys].Close.values\n",
    "    return profits\n",
    "def check_strat(stonks):\n",
    "    res = {'ticker':[],'final_profit':[],'pcnt_change':[]}\n",
    "    dates = (dt.datetime.now() - dt.timedelta(30)).strftime('%Y-%m-%d')\n",
    "    for i in stonks:\n",
    "        res['ticker'].append(i)\n",
    "        df = yf.download(i,start=dates,interval='15m')\n",
    "        base = df.copy()\n",
    "        df = manipulations(df)\n",
    "        profit = profits(df)\n",
    "        res['final_profit'].append(sum(profit))\n",
    "        res['pcnt_change'].append(((base.Close.pct_change() +1).cumprod()[-1]))\n",
    "    df=pd.DataFrame(res)\n",
    "    return df       "
   ]
  },
  {
   "cell_type": "code",
   "execution_count": 54,
   "id": "1692d4e1-e275-4775-9a13-2570671b62d7",
   "metadata": {},
   "outputs": [
    {
     "name": "stdout",
     "output_type": "stream",
     "text": [
      "[*********************100%***********************]  1 of 1 completed\n"
     ]
    }
   ],
   "source": [
    "final = check_strat(['RTX'])"
   ]
  },
  {
   "cell_type": "code",
   "execution_count": 55,
   "id": "170e7109-ebb8-4e2d-8293-2ed6a574109c",
   "metadata": {},
   "outputs": [
    {
     "data": {
      "text/html": [
       "<div>\n",
       "<style scoped>\n",
       "    .dataframe tbody tr th:only-of-type {\n",
       "        vertical-align: middle;\n",
       "    }\n",
       "\n",
       "    .dataframe tbody tr th {\n",
       "        vertical-align: top;\n",
       "    }\n",
       "\n",
       "    .dataframe thead th {\n",
       "        text-align: right;\n",
       "    }\n",
       "</style>\n",
       "<table border=\"1\" class=\"dataframe\">\n",
       "  <thead>\n",
       "    <tr style=\"text-align: right;\">\n",
       "      <th></th>\n",
       "      <th>final_profit</th>\n",
       "      <th>pcnt_change</th>\n",
       "      <th>win_delta</th>\n",
       "    </tr>\n",
       "    <tr>\n",
       "      <th>ticker</th>\n",
       "      <th></th>\n",
       "      <th></th>\n",
       "      <th></th>\n",
       "    </tr>\n",
       "  </thead>\n",
       "  <tbody>\n",
       "    <tr>\n",
       "      <th>RTX</th>\n",
       "      <td>0.038982</td>\n",
       "      <td>0.015826</td>\n",
       "      <td>0.023156</td>\n",
       "    </tr>\n",
       "  </tbody>\n",
       "</table>\n",
       "</div>"
      ],
      "text/plain": [
       "        final_profit  pcnt_change  win_delta\n",
       "ticker                                      \n",
       "RTX         0.038982     0.015826   0.023156"
      ]
     },
     "execution_count": 55,
     "metadata": {},
     "output_type": "execute_result"
    }
   ],
   "source": [
    "final_copy = final.copy()\n",
    "final_copy['pcnt_change'] = final_copy['pcnt_change'] -1\n",
    "final_copy['win_delta'] = final_copy['final_profit'] - final_copy['pcnt_change']\n",
    "final_copy.set_index('ticker', inplace=True)\n",
    "final_copy.sort_values('win_delta', ascending=False)\n",
    "final_copy"
   ]
  },
  {
   "cell_type": "code",
   "execution_count": null,
   "id": "19a6478b-c801-49d8-841b-bd9852618348",
   "metadata": {},
   "outputs": [],
   "source": []
  }
 ],
 "metadata": {
  "kernelspec": {
   "display_name": "Python 3",
   "language": "python",
   "name": "python3"
  },
  "language_info": {
   "codemirror_mode": {
    "name": "ipython",
    "version": 3
   },
   "file_extension": ".py",
   "mimetype": "text/x-python",
   "name": "python",
   "nbconvert_exporter": "python",
   "pygments_lexer": "ipython3",
   "version": "3.9.4"
  }
 },
 "nbformat": 4,
 "nbformat_minor": 5
}
