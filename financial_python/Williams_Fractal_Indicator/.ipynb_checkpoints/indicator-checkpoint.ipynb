{
 "cells": [
  {
   "cell_type": "code",
   "execution_count": 7,
   "id": "f746138b-bca5-4de8-98ce-f7255f81063d",
   "metadata": {},
   "outputs": [],
   "source": [
    "import yfinance as yf\n",
    "import pandas as pd \n",
    "import numpy as np\n",
    "import ta\n",
    "import datetime as dt\n"
   ]
  },
  {
   "cell_type": "code",
   "execution_count": 8,
   "id": "891ad915-109d-488d-924e-55f31fd22c38",
   "metadata": {},
   "outputs": [],
   "source": [
    "def manipulations(df):\n",
    "    df['EMA200'] = ta.trend.ema_indicator(df.Close,window=200)\n",
    "    df['wf_Top_bool'] = np.where(\n",
    "    df['High']==df['High'].rolling(9,center=True).max(),True,False)\n",
    "    df['wf_top'] = np.where(\n",
    "    df['High']==df['High'].rolling(9,center=True).max(),df['High'],None\n",
    "    )\n",
    "    df['wf_top'] = df['wf_top'].ffill()\n",
    "    df.dropna(inplace=True)\n",
    "    df['Buy'] = np.where((df.Close> df.wf_top) & (df.Close>df.EMA200),1,0)\n",
    "    df['SL'] = np.where(df.Buy==1, df.Close-(df.Close-df.Low),0)\n",
    "    df['TP'] = np.where(df.Buy==1, df.Close+(df.Close-df.Low)*1.5,0)\n",
    "    return df"
   ]
  },
  {
   "cell_type": "code",
   "execution_count": 9,
   "id": "27b41b55-6b2f-4b4d-a521-17d283b80284",
   "metadata": {},
   "outputs": [],
   "source": [
    "def profits(df):\n",
    "    buys, sells = [],[]\n",
    "    for i in range(len(df)):\n",
    "        if df.Buy.iloc[i]:\n",
    "            buys.append(df.iloc[i].name)\n",
    "            for j in range(len(df)-i):\n",
    "                if df.TP.iloc[i] < df.Close.iloc[i+j] or \\\n",
    "                df.SL.iloc[i] > df.Close.iloc[i+j]:\n",
    "                    sells.append(df.iloc[i+j].name)\n",
    "                    break\n",
    "    frame = pd.DataFrame([buys,sells]).T.dropna()\n",
    "    frame.columns = ['Buys','Sells']\n",
    "    actualtrades = frame[frame.Buys>frame.Sells.shift(1)]\n",
    "    profits = (df.loc[actualtrades.Sells].Close.values - \\\n",
    "    df.loc[actualtrades.Buys].Close.values) / df.loc[actualtrades.Buys].Close.values\n",
    "    return profits"
   ]
  },
  {
   "cell_type": "code",
   "execution_count": 10,
   "id": "a4615e7b-86aa-4b6b-aa59-d785a926abd4",
   "metadata": {},
   "outputs": [],
   "source": [
    "def check_strat(stonks):\n",
    "    res = {'ticker':[],'final_profit':[],'pcnt_change':[]}\n",
    "    dates = (dt.datetime.now() - dt.timedelta(30)).strftime('%Y-%m-%d')\n",
    "    for i in stonks:\n",
    "        res['ticker'].append(i)\n",
    "        df = yf.download(i,start=dates,interval='15m')\n",
    "        base = df.copy()\n",
    "        df = manipulations(df)\n",
    "        profit = profits(df)\n",
    "        res['final_profit'].append(sum(profit))\n",
    "        res['pcnt_change'].append(((base.Close.pct_change() +1).cumprod()[-1]))\n",
    "    df=pd.DataFrame(res)\n",
    "    return df       "
   ]
  },
  {
   "cell_type": "code",
   "execution_count": 11,
   "id": "f918c675-f845-40c3-acb8-fd14cffabb20",
   "metadata": {},
   "outputs": [
    {
     "name": "stdout",
     "output_type": "stream",
     "text": [
      "[*********************100%***********************]  1 of 1 completed\n",
      "[*********************100%***********************]  1 of 1 completed\n",
      "[*********************100%***********************]  1 of 1 completed\n",
      "[*********************100%***********************]  1 of 1 completed\n",
      "[*********************100%***********************]  1 of 1 completed\n",
      "[*********************100%***********************]  1 of 1 completed\n",
      "[*********************100%***********************]  1 of 1 completed\n",
      "[*********************100%***********************]  1 of 1 completed\n",
      "[*********************100%***********************]  1 of 1 completed\n",
      "[*********************100%***********************]  1 of 1 completed\n",
      "[*********************100%***********************]  1 of 1 completed\n",
      "[*********************100%***********************]  1 of 1 completed\n",
      "[*********************100%***********************]  1 of 1 completed\n",
      "[*********************100%***********************]  1 of 1 completed\n"
     ]
    }
   ],
   "source": [
    "stonks = ['AMD','TSLA','AAPL','NVDA','PYPL','PLTR','FB','SPY','ES=F','BTC-USD','SOL-USD','ADA-USD','ETH-USD','XRP-USD']\n",
    "final = check_strat(stonks)"
   ]
  },
  {
   "cell_type": "code",
   "execution_count": 13,
   "id": "90573316-a509-4ad6-b803-f77209d4eb33",
   "metadata": {},
   "outputs": [
    {
     "data": {
      "text/html": [
       "<div>\n",
       "<style scoped>\n",
       "    .dataframe tbody tr th:only-of-type {\n",
       "        vertical-align: middle;\n",
       "    }\n",
       "\n",
       "    .dataframe tbody tr th {\n",
       "        vertical-align: top;\n",
       "    }\n",
       "\n",
       "    .dataframe thead th {\n",
       "        text-align: right;\n",
       "    }\n",
       "</style>\n",
       "<table border=\"1\" class=\"dataframe\">\n",
       "  <thead>\n",
       "    <tr style=\"text-align: right;\">\n",
       "      <th></th>\n",
       "      <th>final_profit</th>\n",
       "      <th>pcnt_change</th>\n",
       "      <th>win_delta</th>\n",
       "    </tr>\n",
       "    <tr>\n",
       "      <th>ticker</th>\n",
       "      <th></th>\n",
       "      <th></th>\n",
       "      <th></th>\n",
       "    </tr>\n",
       "  </thead>\n",
       "  <tbody>\n",
       "    <tr>\n",
       "      <th>XRP-USD</th>\n",
       "      <td>0.752677</td>\n",
       "      <td>-0.062108</td>\n",
       "      <td>0.814784</td>\n",
       "    </tr>\n",
       "    <tr>\n",
       "      <th>ADA-USD</th>\n",
       "      <td>0.169808</td>\n",
       "      <td>-0.052913</td>\n",
       "      <td>0.222720</td>\n",
       "    </tr>\n",
       "    <tr>\n",
       "      <th>PLTR</th>\n",
       "      <td>-0.010889</td>\n",
       "      <td>-0.108925</td>\n",
       "      <td>0.098036</td>\n",
       "    </tr>\n",
       "    <tr>\n",
       "      <th>NVDA</th>\n",
       "      <td>0.036553</td>\n",
       "      <td>-0.060074</td>\n",
       "      <td>0.096627</td>\n",
       "    </tr>\n",
       "    <tr>\n",
       "      <th>TSLA</th>\n",
       "      <td>0.057072</td>\n",
       "      <td>-0.030843</td>\n",
       "      <td>0.087915</td>\n",
       "    </tr>\n",
       "    <tr>\n",
       "      <th>AMD</th>\n",
       "      <td>0.033309</td>\n",
       "      <td>-0.035336</td>\n",
       "      <td>0.068645</td>\n",
       "    </tr>\n",
       "    <tr>\n",
       "      <th>BTC-USD</th>\n",
       "      <td>-0.087119</td>\n",
       "      <td>-0.118923</td>\n",
       "      <td>0.031803</td>\n",
       "    </tr>\n",
       "    <tr>\n",
       "      <th>ES=F</th>\n",
       "      <td>0.041003</td>\n",
       "      <td>0.036111</td>\n",
       "      <td>0.004892</td>\n",
       "    </tr>\n",
       "    <tr>\n",
       "      <th>FB</th>\n",
       "      <td>0.015498</td>\n",
       "      <td>0.028977</td>\n",
       "      <td>-0.013479</td>\n",
       "    </tr>\n",
       "    <tr>\n",
       "      <th>PYPL</th>\n",
       "      <td>0.020631</td>\n",
       "      <td>0.035505</td>\n",
       "      <td>-0.014874</td>\n",
       "    </tr>\n",
       "    <tr>\n",
       "      <th>SOL-USD</th>\n",
       "      <td>-0.014803</td>\n",
       "      <td>0.010309</td>\n",
       "      <td>-0.025112</td>\n",
       "    </tr>\n",
       "    <tr>\n",
       "      <th>SPY</th>\n",
       "      <td>0.004065</td>\n",
       "      <td>0.029221</td>\n",
       "      <td>-0.025156</td>\n",
       "    </tr>\n",
       "    <tr>\n",
       "      <th>AAPL</th>\n",
       "      <td>0.041666</td>\n",
       "      <td>0.119373</td>\n",
       "      <td>-0.077707</td>\n",
       "    </tr>\n",
       "    <tr>\n",
       "      <th>ETH-USD</th>\n",
       "      <td>-0.195811</td>\n",
       "      <td>-0.057755</td>\n",
       "      <td>-0.138056</td>\n",
       "    </tr>\n",
       "  </tbody>\n",
       "</table>\n",
       "</div>"
      ],
      "text/plain": [
       "         final_profit  pcnt_change  win_delta\n",
       "ticker                                       \n",
       "XRP-USD      0.752677    -0.062108   0.814784\n",
       "ADA-USD      0.169808    -0.052913   0.222720\n",
       "PLTR        -0.010889    -0.108925   0.098036\n",
       "NVDA         0.036553    -0.060074   0.096627\n",
       "TSLA         0.057072    -0.030843   0.087915\n",
       "AMD          0.033309    -0.035336   0.068645\n",
       "BTC-USD     -0.087119    -0.118923   0.031803\n",
       "ES=F         0.041003     0.036111   0.004892\n",
       "FB           0.015498     0.028977  -0.013479\n",
       "PYPL         0.020631     0.035505  -0.014874\n",
       "SOL-USD     -0.014803     0.010309  -0.025112\n",
       "SPY          0.004065     0.029221  -0.025156\n",
       "AAPL         0.041666     0.119373  -0.077707\n",
       "ETH-USD     -0.195811    -0.057755  -0.138056"
      ]
     },
     "execution_count": 13,
     "metadata": {},
     "output_type": "execute_result"
    }
   ],
   "source": [
    "final_copy = final.copy()\n",
    "final_copy['pcnt_change'] = final_copy['pcnt_change'] -1\n",
    "final_copy['win_delta'] = final_copy['final_profit'] - final_copy['pcnt_change']\n",
    "final_copy.set_index('ticker', inplace=True)\n",
    "final_copy.sort_values('win_delta', ascending=False)\n",
    "final_copy"
   ]
  },
  {
   "cell_type": "code",
   "execution_count": 61,
   "id": "7553fb84-f4ec-49f8-b97a-f1d1be9f5c0b",
   "metadata": {},
   "outputs": [
    {
     "name": "stdout",
     "output_type": "stream",
     "text": [
      "[*********************100%***********************]  1 of 1 completed\n"
     ]
    }
   ],
   "source": [
    "dates = (dt.datetime.now() - dt.timedelta(30)).strftime('%Y-%m-%d')\n",
    "df = yf.download('xrp-usd',start=dates,interval='15m')\n",
    "base = df.copy()\n",
    "df = manipulations(df)\n",
    "profit = profits(df)\n"
   ]
  },
  {
   "cell_type": "code",
   "execution_count": 94,
   "id": "1c56a4de-aa51-40bd-a6fe-92f7605da73c",
   "metadata": {},
   "outputs": [
    {
     "data": {
      "text/plain": [
       "1.1272281861832365"
      ]
     },
     "execution_count": 94,
     "metadata": {},
     "output_type": "execute_result"
    }
   ],
   "source": [
    "sum(final_copy['win_delta'])"
   ]
  },
  {
   "cell_type": "code",
   "execution_count": null,
   "id": "ecb8e30e-2460-4b83-a038-0a26ce0ecfcc",
   "metadata": {},
   "outputs": [],
   "source": []
  }
 ],
 "metadata": {
  "kernelspec": {
   "display_name": "Python 3",
   "language": "python",
   "name": "python3"
  },
  "language_info": {
   "codemirror_mode": {
    "name": "ipython",
    "version": 3
   },
   "file_extension": ".py",
   "mimetype": "text/x-python",
   "name": "python",
   "nbconvert_exporter": "python",
   "pygments_lexer": "ipython3",
   "version": "3.9.4"
  }
 },
 "nbformat": 4,
 "nbformat_minor": 5
}
