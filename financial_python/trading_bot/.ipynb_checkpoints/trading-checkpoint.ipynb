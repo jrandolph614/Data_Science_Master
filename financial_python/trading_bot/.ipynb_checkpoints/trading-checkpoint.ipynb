{
 "cells": [
  {
   "cell_type": "code",
   "execution_count": 1,
   "id": "e2a9fde2-a024-4ac7-948c-86b0c64c0363",
   "metadata": {},
   "outputs": [],
   "source": [
    "from keys import bkey, secret\n",
    "import asyncio\n",
    "from binance import AsyncClient, BinanceSocketManager\n",
    "import pandas as pd \n",
    "import datetime as dt \n",
    "from binance.client import Client\n",
    "from sqlalchemy import create_engine\n"
   ]
  },
  {
   "cell_type": "code",
   "execution_count": 2,
   "id": "51989e32-acec-4ad0-bd4e-715529d70390",
   "metadata": {},
   "outputs": [],
   "source": [
    "engine = create_engine('sqlite:///CryptoDB.db')\n",
    "client = Client(bkey,secret,tld='us')"
   ]
  },
  {
   "cell_type": "code",
   "execution_count": 3,
   "id": "87ef4282-259c-49e6-9c4d-d7249ad664e4",
   "metadata": {},
   "outputs": [],
   "source": [
    "symbols = pd.read_sql('select name from sqlite_master where type=\"table\"',engine).name.to_list()"
   ]
  },
  {
   "cell_type": "code",
   "execution_count": 4,
   "id": "3ce9eed3-4391-4e70-b325-703b24a6cdfa",
   "metadata": {},
   "outputs": [],
   "source": [
    "def qry(symbol,lookback:int):\n",
    "    now = dt.datetime.now() + dt.timedelta(hours=5) #binance time\n",
    "    before  = now - dt.timedelta(minutes=lookback)\n",
    "    qry_str = f\"\"\"select * from '{symbol}' where time >= '{before}'\"\"\"\n",
    "    return pd.read_sql(qry_str,engine)"
   ]
  },
  {
   "cell_type": "code",
   "execution_count": 5,
   "id": "5a5cd31f-186d-4130-bcc7-a473b5b81faa",
   "metadata": {},
   "outputs": [],
   "source": [
    "rets = []\n",
    "for symbol in symbols:\n",
    "    prices = qry(symbol,3).Price\n",
    "    cumret = (prices.pct_change() +1).prod()-1\n",
    "    rets.append(cumret)"
   ]
  },
  {
   "cell_type": "code",
   "execution_count": 6,
   "id": "9f94a991-3beb-44e4-9d72-bee7790c4889",
   "metadata": {},
   "outputs": [],
   "source": [
    "top_coin = symbols[rets.index(max(rets))]\n",
    "'''print(top_coin)\n",
    "top_coin = 'SOLUSDT''''"
   ]
  },
  {
   "cell_type": "code",
   "execution_count": 7,
   "id": "41a21d06-d4f1-455a-98d2-1c151d4f6c06",
   "metadata": {},
   "outputs": [],
   "source": [
    "investment_amt = 300 "
   ]
  },
  {
   "cell_type": "code",
   "execution_count": 8,
   "id": "a3d6bc86-7b94-45f3-93e9-9e559defb4e2",
   "metadata": {},
   "outputs": [
    {
     "name": "stdout",
     "output_type": "stream",
     "text": [
      "{'symbol': 'SOLUSDT', 'status': 'TRADING', 'baseAsset': 'SOL', 'baseAssetPrecision': 8, 'quoteAsset': 'USDT', 'quotePrecision': 8, 'quoteAssetPrecision': 8, 'baseCommissionPrecision': 8, 'quoteCommissionPrecision': 8, 'orderTypes': ['LIMIT', 'LIMIT_MAKER', 'MARKET', 'STOP_LOSS_LIMIT', 'TAKE_PROFIT_LIMIT'], 'icebergAllowed': True, 'ocoAllowed': True, 'quoteOrderQtyMarketAllowed': True, 'isSpotTradingAllowed': True, 'isMarginTradingAllowed': False, 'filters': [{'filterType': 'PRICE_FILTER', 'minPrice': '0.00010000', 'maxPrice': '1000.00000000', 'tickSize': '0.00010000'}, {'filterType': 'PERCENT_PRICE', 'multiplierUp': '5', 'multiplierDown': '0.2', 'avgPriceMins': 5}, {'filterType': 'LOT_SIZE', 'minQty': '0.01000000', 'maxQty': '900000.00000000', 'stepSize': '0.01000000'}, {'filterType': 'MIN_NOTIONAL', 'minNotional': '10.00000000', 'applyToMarket': True, 'avgPriceMins': 5}, {'filterType': 'ICEBERG_PARTS', 'limit': 10}, {'filterType': 'MARKET_LOT_SIZE', 'minQty': '0.00000000', 'maxQty': '300248.53607639', 'stepSize': '0.00000000'}, {'filterType': 'MAX_NUM_ORDERS', 'maxNumOrders': 200}, {'filterType': 'MAX_NUM_ALGO_ORDERS', 'maxNumAlgoOrders': 5}], 'permissions': ['SPOT']}\n"
     ]
    }
   ],
   "source": [
    "info = client.get_symbol_info(symbol=top_coin)\n",
    "print(info)"
   ]
  },
  {
   "cell_type": "code",
   "execution_count": 9,
   "id": "f6638ddd-0151-4115-9456-4a8cb171abe7",
   "metadata": {},
   "outputs": [],
   "source": [
    "lotsize = float([i for i in info['filters'] if  i['filterType']=='LOT_SIZE'][0]['minQty'])\n"
   ]
  },
  {
   "cell_type": "code",
   "execution_count": 10,
   "id": "b810f964-41fd-4fff-9138-ce8ce6eccd09",
   "metadata": {},
   "outputs": [],
   "source": [
    "prize = float(client.get_symbol_ticker(symbol=top_coin)['price'])"
   ]
  },
  {
   "cell_type": "code",
   "execution_count": 11,
   "id": "5883dd1a-82d9-498b-824d-2906187d905d",
   "metadata": {},
   "outputs": [],
   "source": [
    "buy_quantity = round(investment_amt/prize,len(str(lotsize).split('.')[1])) "
   ]
  },
  {
   "cell_type": "code",
   "execution_count": 12,
   "id": "e017f337-9450-4442-8b5a-61745285e278",
   "metadata": {},
   "outputs": [],
   "source": [
    "free_usd = [i for i in client.get_account()['balances'] if i['asset']=='USDT'][0]['free']\n"
   ]
  },
  {
   "cell_type": "code",
   "execution_count": 14,
   "id": "c7177c7f-e16b-494f-8638-55216a2a13ec",
   "metadata": {},
   "outputs": [
    {
     "name": "stdout",
     "output_type": "stream",
     "text": [
      "order has not been executed. You are already invested\n"
     ]
    }
   ],
   "source": [
    "if float(free_usd) > investment_amt:\n",
    "    order = client.create_order(symbol=top_coin, side ='BUY', type='MARKET',quantity=buy_quantity)\n",
    "    print(order)\n",
    "    \n",
    "else:\n",
    "    print('order has not been executed. You are already invested')\n",
    "    quit()\n",
    "    "
   ]
  },
  {
   "cell_type": "code",
   "execution_count": 13,
   "id": "3e083361-e066-45f0-bcfc-54a6fa89fa92",
   "metadata": {},
   "outputs": [
    {
     "ename": "NameError",
     "evalue": "name 'order' is not defined",
     "output_type": "error",
     "traceback": [
      "\u001b[1;31m---------------------------------------------------------------------------\u001b[0m",
      "\u001b[1;31mNameError\u001b[0m                                 Traceback (most recent call last)",
      "\u001b[1;32m<ipython-input-13-81f630d0c030>\u001b[0m in \u001b[0;36m<module>\u001b[1;34m\u001b[0m\n\u001b[1;32m----> 1\u001b[1;33m \u001b[0mbuyprice\u001b[0m \u001b[1;33m=\u001b[0m \u001b[0mfloat\u001b[0m\u001b[1;33m(\u001b[0m\u001b[0morder\u001b[0m\u001b[1;33m[\u001b[0m\u001b[1;34m'fills'\u001b[0m\u001b[1;33m]\u001b[0m\u001b[1;33m[\u001b[0m\u001b[1;36m0\u001b[0m\u001b[1;33m]\u001b[0m\u001b[1;33m[\u001b[0m\u001b[1;34m'price'\u001b[0m\u001b[1;33m]\u001b[0m\u001b[1;33m)\u001b[0m\u001b[1;33m\u001b[0m\u001b[1;33m\u001b[0m\u001b[0m\n\u001b[0m",
      "\u001b[1;31mNameError\u001b[0m: name 'order' is not defined"
     ]
    }
   ],
   "source": [
    "buyprice = float(order['fills'][0]['price'])\n"
   ]
  },
  {
   "cell_type": "code",
   "execution_count": 14,
   "id": "e3968d2c-b5e8-4277-9fdc-16d22f431b66",
   "metadata": {},
   "outputs": [],
   "source": [
    "def createframe(msg):\n",
    "    df = pd.DataFrame([msg['data']])\n",
    "    df = df.loc[:,['s','E','p']]\n",
    "    df.columns = ['symbol','Time','Price']\n",
    "    df.Price = df.Price.astype(float)\n",
    "    df.Time = pd.to_datetime(df.Time,unit='ms')\n",
    "    return df"
   ]
  },
  {
   "cell_type": "code",
   "execution_count": null,
   "id": "e59b12cf-c0f7-43b7-91f4-7e92d22b056c",
   "metadata": {},
   "outputs": [],
   "source": [
    "async def main(coin):\n",
    "    bm = BinanceSocketManager(client)\n",
    "    ts = bm.trade_socket(coin)\n",
    "    async with ts as tscm:\n",
    "        while True:\n",
    "            res = await tscm.recv()\n",
    "            if res:\n",
    "                frame = createframe(res)\n",
    "                if frame['price'][0] < buyprice * 0.97 or frame.Price[0] > 1.005 * buyprice:\n",
    "                    order = client.create_order(\n",
    "                    symbol = coin,\n",
    "                    side='SELL',\n",
    "                    type='MARKET',\n",
    "                    quantity = buy_quantity)\n",
    "    await client.close_connection()\n",
    "if __name__ == '__main__':\n",
    "    loop = asyncio.get_event_loop()\n",
    "    loop.run_until_complete(main(top_coin))"
   ]
  }
 ],
 "metadata": {
  "kernelspec": {
   "display_name": "Python 3",
   "language": "python",
   "name": "python3"
  },
  "language_info": {
   "codemirror_mode": {
    "name": "ipython",
    "version": 3
   },
   "file_extension": ".py",
   "mimetype": "text/x-python",
   "name": "python",
   "nbconvert_exporter": "python",
   "pygments_lexer": "ipython3",
   "version": "3.9.4"
  }
 },
 "nbformat": 4,
 "nbformat_minor": 5
}
