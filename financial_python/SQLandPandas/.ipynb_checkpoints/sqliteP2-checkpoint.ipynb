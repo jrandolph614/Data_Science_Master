{
 "cells": [
  {
   "cell_type": "code",
   "execution_count": 1,
   "id": "7e43f80a-df78-4b26-a351-17d875dde435",
   "metadata": {},
   "outputs": [],
   "source": [
    "import sqlite3\n",
    "import sqlalchemy\n",
    "import pandas as pd"
   ]
  },
  {
   "cell_type": "code",
   "execution_count": 2,
   "id": "da444509-0a10-4f35-aeaa-e095f2c8fd05",
   "metadata": {},
   "outputs": [],
   "source": [
    "engine = sqlalchemy.create_engine('sqlite:///mydb.db')"
   ]
  },
  {
   "cell_type": "code",
   "execution_count": 6,
   "id": "7224f1d8-3e71-44f4-bf30-f49312887822",
   "metadata": {},
   "outputs": [
    {
     "data": {
      "text/html": [
       "<div>\n",
       "<style scoped>\n",
       "    .dataframe tbody tr th:only-of-type {\n",
       "        vertical-align: middle;\n",
       "    }\n",
       "\n",
       "    .dataframe tbody tr th {\n",
       "        vertical-align: top;\n",
       "    }\n",
       "\n",
       "    .dataframe thead th {\n",
       "        text-align: right;\n",
       "    }\n",
       "</style>\n",
       "<table border=\"1\" class=\"dataframe\">\n",
       "  <thead>\n",
       "    <tr style=\"text-align: right;\">\n",
       "      <th></th>\n",
       "      <th>name</th>\n",
       "      <th>surname</th>\n",
       "      <th>salary</th>\n",
       "    </tr>\n",
       "  </thead>\n",
       "  <tbody>\n",
       "    <tr>\n",
       "      <th>0</th>\n",
       "      <td>Maria</td>\n",
       "      <td>Mayer</td>\n",
       "      <td>100000.0</td>\n",
       "    </tr>\n",
       "    <tr>\n",
       "      <th>1</th>\n",
       "      <td>Max</td>\n",
       "      <td>Maxwell</td>\n",
       "      <td>100000.0</td>\n",
       "    </tr>\n",
       "    <tr>\n",
       "      <th>2</th>\n",
       "      <td>King</td>\n",
       "      <td>Arthur</td>\n",
       "      <td>50000.0</td>\n",
       "    </tr>\n",
       "    <tr>\n",
       "      <th>3</th>\n",
       "      <td>Jerome</td>\n",
       "      <td>Washington</td>\n",
       "      <td>100000.0</td>\n",
       "    </tr>\n",
       "  </tbody>\n",
       "</table>\n",
       "</div>"
      ],
      "text/plain": [
       "     name     surname    salary\n",
       "0   Maria       Mayer  100000.0\n",
       "1     Max     Maxwell  100000.0\n",
       "2    King      Arthur   50000.0\n",
       "3  Jerome  Washington  100000.0"
      ]
     },
     "execution_count": 6,
     "metadata": {},
     "output_type": "execute_result"
    }
   ],
   "source": [
    "pd.read_sql('select * from employees',engine)"
   ]
  },
  {
   "cell_type": "code",
   "execution_count": 7,
   "id": "bb83db7c-0162-47fa-8daa-637b70d201c5",
   "metadata": {},
   "outputs": [],
   "source": [
    "df1 = pd.DataFrame([{'name':'john','surname':'deer','salary':75000}])"
   ]
  },
  {
   "cell_type": "code",
   "execution_count": 8,
   "id": "9d6c0cb8-3bb0-466c-9c4f-d2a8814165df",
   "metadata": {},
   "outputs": [],
   "source": [
    "df1.to_sql('employees',engine, if_exists='append',index=False)"
   ]
  },
  {
   "cell_type": "code",
   "execution_count": 12,
   "id": "d363eb4b-5fe9-46bc-a2df-5e5dfcf431e9",
   "metadata": {},
   "outputs": [],
   "source": [
    "import yfinance as yf"
   ]
  },
  {
   "cell_type": "code",
   "execution_count": 13,
   "id": "1a8dffab-8584-4cd3-8065-441db8da5b4b",
   "metadata": {},
   "outputs": [
    {
     "name": "stdout",
     "output_type": "stream",
     "text": [
      "[*********************100%***********************]  1 of 1 completed\n"
     ]
    }
   ],
   "source": [
    "df = yf.download('GME',start='2021-01-01')"
   ]
  },
  {
   "cell_type": "code",
   "execution_count": 15,
   "id": "17e36b0e-da62-44d8-a4cc-b0ba0ca56703",
   "metadata": {},
   "outputs": [],
   "source": [
    "df.to_sql('GME',engine)"
   ]
  },
  {
   "cell_type": "code",
   "execution_count": 16,
   "id": "a1fd8192-8046-4844-8d98-3c868fc20a4f",
   "metadata": {},
   "outputs": [
    {
     "data": {
      "text/html": [
       "<div>\n",
       "<style scoped>\n",
       "    .dataframe tbody tr th:only-of-type {\n",
       "        vertical-align: middle;\n",
       "    }\n",
       "\n",
       "    .dataframe tbody tr th {\n",
       "        vertical-align: top;\n",
       "    }\n",
       "\n",
       "    .dataframe thead th {\n",
       "        text-align: right;\n",
       "    }\n",
       "</style>\n",
       "<table border=\"1\" class=\"dataframe\">\n",
       "  <thead>\n",
       "    <tr style=\"text-align: right;\">\n",
       "      <th></th>\n",
       "      <th>Date</th>\n",
       "      <th>Open</th>\n",
       "      <th>High</th>\n",
       "      <th>Low</th>\n",
       "      <th>Close</th>\n",
       "      <th>Adj Close</th>\n",
       "      <th>Volume</th>\n",
       "    </tr>\n",
       "  </thead>\n",
       "  <tbody>\n",
       "    <tr>\n",
       "      <th>0</th>\n",
       "      <td>2021-01-04</td>\n",
       "      <td>19.000000</td>\n",
       "      <td>19.100000</td>\n",
       "      <td>17.150000</td>\n",
       "      <td>17.250000</td>\n",
       "      <td>17.250000</td>\n",
       "      <td>10022500</td>\n",
       "    </tr>\n",
       "    <tr>\n",
       "      <th>1</th>\n",
       "      <td>2021-01-05</td>\n",
       "      <td>17.350000</td>\n",
       "      <td>18.080000</td>\n",
       "      <td>17.230000</td>\n",
       "      <td>17.370001</td>\n",
       "      <td>17.370001</td>\n",
       "      <td>4961500</td>\n",
       "    </tr>\n",
       "    <tr>\n",
       "      <th>2</th>\n",
       "      <td>2021-01-06</td>\n",
       "      <td>17.340000</td>\n",
       "      <td>18.980000</td>\n",
       "      <td>17.330000</td>\n",
       "      <td>18.360001</td>\n",
       "      <td>18.360001</td>\n",
       "      <td>6056200</td>\n",
       "    </tr>\n",
       "    <tr>\n",
       "      <th>3</th>\n",
       "      <td>2021-01-07</td>\n",
       "      <td>18.469999</td>\n",
       "      <td>19.450001</td>\n",
       "      <td>18.020000</td>\n",
       "      <td>18.080000</td>\n",
       "      <td>18.080000</td>\n",
       "      <td>6129300</td>\n",
       "    </tr>\n",
       "    <tr>\n",
       "      <th>4</th>\n",
       "      <td>2021-01-08</td>\n",
       "      <td>18.180000</td>\n",
       "      <td>18.299999</td>\n",
       "      <td>17.080000</td>\n",
       "      <td>17.690001</td>\n",
       "      <td>17.690001</td>\n",
       "      <td>6482000</td>\n",
       "    </tr>\n",
       "    <tr>\n",
       "      <th>...</th>\n",
       "      <td>...</td>\n",
       "      <td>...</td>\n",
       "      <td>...</td>\n",
       "      <td>...</td>\n",
       "      <td>...</td>\n",
       "      <td>...</td>\n",
       "      <td>...</td>\n",
       "    </tr>\n",
       "    <tr>\n",
       "      <th>244</th>\n",
       "      <td>2021-12-21</td>\n",
       "      <td>157.059998</td>\n",
       "      <td>160.250000</td>\n",
       "      <td>155.139999</td>\n",
       "      <td>158.119995</td>\n",
       "      <td>158.119995</td>\n",
       "      <td>1430200</td>\n",
       "    </tr>\n",
       "    <tr>\n",
       "      <th>245</th>\n",
       "      <td>2021-12-22</td>\n",
       "      <td>158.330002</td>\n",
       "      <td>159.149994</td>\n",
       "      <td>152.119995</td>\n",
       "      <td>154.000000</td>\n",
       "      <td>154.000000</td>\n",
       "      <td>1047200</td>\n",
       "    </tr>\n",
       "    <tr>\n",
       "      <th>246</th>\n",
       "      <td>2021-12-23</td>\n",
       "      <td>154.000000</td>\n",
       "      <td>155.000000</td>\n",
       "      <td>146.020004</td>\n",
       "      <td>152.139999</td>\n",
       "      <td>152.139999</td>\n",
       "      <td>1053100</td>\n",
       "    </tr>\n",
       "    <tr>\n",
       "      <th>247</th>\n",
       "      <td>2021-12-27</td>\n",
       "      <td>152.000000</td>\n",
       "      <td>152.619995</td>\n",
       "      <td>140.000000</td>\n",
       "      <td>148.309998</td>\n",
       "      <td>148.309998</td>\n",
       "      <td>1613600</td>\n",
       "    </tr>\n",
       "    <tr>\n",
       "      <th>248</th>\n",
       "      <td>2021-12-28</td>\n",
       "      <td>147.500000</td>\n",
       "      <td>157.410004</td>\n",
       "      <td>146.410004</td>\n",
       "      <td>146.460007</td>\n",
       "      <td>146.460007</td>\n",
       "      <td>1320244</td>\n",
       "    </tr>\n",
       "  </tbody>\n",
       "</table>\n",
       "<p>249 rows × 7 columns</p>\n",
       "</div>"
      ],
      "text/plain": [
       "          Date        Open        High         Low       Close   Adj Close  \\\n",
       "0   2021-01-04   19.000000   19.100000   17.150000   17.250000   17.250000   \n",
       "1   2021-01-05   17.350000   18.080000   17.230000   17.370001   17.370001   \n",
       "2   2021-01-06   17.340000   18.980000   17.330000   18.360001   18.360001   \n",
       "3   2021-01-07   18.469999   19.450001   18.020000   18.080000   18.080000   \n",
       "4   2021-01-08   18.180000   18.299999   17.080000   17.690001   17.690001   \n",
       "..         ...         ...         ...         ...         ...         ...   \n",
       "244 2021-12-21  157.059998  160.250000  155.139999  158.119995  158.119995   \n",
       "245 2021-12-22  158.330002  159.149994  152.119995  154.000000  154.000000   \n",
       "246 2021-12-23  154.000000  155.000000  146.020004  152.139999  152.139999   \n",
       "247 2021-12-27  152.000000  152.619995  140.000000  148.309998  148.309998   \n",
       "248 2021-12-28  147.500000  157.410004  146.410004  146.460007  146.460007   \n",
       "\n",
       "       Volume  \n",
       "0    10022500  \n",
       "1     4961500  \n",
       "2     6056200  \n",
       "3     6129300  \n",
       "4     6482000  \n",
       "..        ...  \n",
       "244   1430200  \n",
       "245   1047200  \n",
       "246   1053100  \n",
       "247   1613600  \n",
       "248   1320244  \n",
       "\n",
       "[249 rows x 7 columns]"
      ]
     },
     "execution_count": 16,
     "metadata": {},
     "output_type": "execute_result"
    }
   ],
   "source": [
    "pd.read_sql('GME',engine)"
   ]
  },
  {
   "cell_type": "code",
   "execution_count": null,
   "id": "25c1d320-2ea6-41fa-a192-2e41c832bccc",
   "metadata": {},
   "outputs": [],
   "source": []
  }
 ],
 "metadata": {
  "kernelspec": {
   "display_name": "Python 3",
   "language": "python",
   "name": "python3"
  },
  "language_info": {
   "codemirror_mode": {
    "name": "ipython",
    "version": 3
   },
   "file_extension": ".py",
   "mimetype": "text/x-python",
   "name": "python",
   "nbconvert_exporter": "python",
   "pygments_lexer": "ipython3",
   "version": "3.9.4"
  }
 },
 "nbformat": 4,
 "nbformat_minor": 5
}
