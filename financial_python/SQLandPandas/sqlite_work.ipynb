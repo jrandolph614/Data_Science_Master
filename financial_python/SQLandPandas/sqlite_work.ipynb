{
 "cells": [
  {
   "cell_type": "code",
   "execution_count": 2,
   "id": "f8f20b65-58f3-41ff-9d07-bd57faf8c851",
   "metadata": {},
   "outputs": [],
   "source": [
    "import sqlite3\n",
    "import pandas as pd\n",
    "import sqlalchemy"
   ]
  },
  {
   "cell_type": "code",
   "execution_count": 6,
   "id": "faafc51d-8f48-4185-bee3-b97999acf982",
   "metadata": {},
   "outputs": [],
   "source": [
    "connection = sqlite3.connect('Mydb.db')"
   ]
  },
  {
   "cell_type": "code",
   "execution_count": 7,
   "id": "f8656d13-6ece-4f9d-b3df-8315ecd63fce",
   "metadata": {},
   "outputs": [],
   "source": [
    "cursor = connection.cursor()"
   ]
  },
  {
   "cell_type": "markdown",
   "id": "aa2e1166-150c-4ac4-91fc-85dfee3494ae",
   "metadata": {},
   "source": [
    "### SQLITE DTYPES\n",
    "\n",
    "- Integer\n",
    "- Real \n",
    "- Text\n",
    "- Blobs\n",
    "- Null"
   ]
  },
  {
   "cell_type": "code",
   "execution_count": 9,
   "id": "0af67070-c1fd-4f58-adb1-40a0ce208059",
   "metadata": {},
   "outputs": [],
   "source": [
    "cursor.execute('CREATE TABLE employees(name TEXT, surname TEXT, salary REAL)')\n",
    "connection.commit()"
   ]
  },
  {
   "cell_type": "code",
   "execution_count": 18,
   "id": "7c770d90-44bb-4d35-9930-2f13aae03e5c",
   "metadata": {},
   "outputs": [],
   "source": [
    "cursor.execute(\"INSERT INTO employees VALUES('Max','Maxwell','100000')\")\n",
    "connection.commit()"
   ]
  },
  {
   "cell_type": "code",
   "execution_count": 22,
   "id": "742c642f-fbc9-4409-b14f-f4792bb61161",
   "metadata": {},
   "outputs": [
    {
     "data": {
      "text/plain": [
       "<sqlite3.Cursor at 0x1ffa5394b90>"
      ]
     },
     "execution_count": 22,
     "metadata": {},
     "output_type": "execute_result"
    }
   ],
   "source": [
    "name = 'King'\n",
    "surname = 'Arthur'\n",
    "salary = 50000\n",
    "cursor.execute(\"INSERT INTO employees VALUES(?,?,?)\", (name,surname,salary))\n",
    "connection.commit()"
   ]
  },
  {
   "cell_type": "code",
   "execution_count": 32,
   "id": "ab3d5015-18a9-471d-8d30-4ad2cb864832",
   "metadata": {},
   "outputs": [],
   "source": [
    "class SQLinput:\n",
    "    def __init__(self,name,surname,salary):\n",
    "        self.name = name\n",
    "        self.surname  = surname\n",
    "        self.salary = salary"
   ]
  },
  {
   "cell_type": "code",
   "execution_count": 29,
   "id": "ea661e23-2748-4e48-83d6-54dd97da201f",
   "metadata": {},
   "outputs": [],
   "source": [
    "inst = SQLinput('Jerome','Washington',100000)\n",
    "name = inst.name\n",
    "surname = inst.surname\n",
    "salary = inst.salary\n",
    "cursor.execute(\"INSERT INTO employees VALUES(?,?,?)\", (name,surname,salary))\n",
    "connection.commit()"
   ]
  },
  {
   "cell_type": "code",
   "execution_count": null,
   "id": "c34f6dfc-9dca-46c0-8025-99da6789182b",
   "metadata": {},
   "outputs": [],
   "source": [
    "cursor.execute(\"select * from employees\")\n",
    "cursor.fetchall()"
   ]
  },
  {
   "cell_type": "code",
   "execution_count": 33,
   "id": "93f7075b-9c64-406f-a682-247d825e3fb5",
   "metadata": {},
   "outputs": [],
   "source": [
    "connection.close()"
   ]
  },
  {
   "cell_type": "code",
   "execution_count": null,
   "id": "e493d963-e946-4f80-a071-5f43006197cc",
   "metadata": {},
   "outputs": [],
   "source": []
  }
 ],
 "metadata": {
  "kernelspec": {
   "display_name": "Python 3",
   "language": "python",
   "name": "python3"
  },
  "language_info": {
   "codemirror_mode": {
    "name": "ipython",
    "version": 3
   },
   "file_extension": ".py",
   "mimetype": "text/x-python",
   "name": "python",
   "nbconvert_exporter": "python",
   "pygments_lexer": "ipython3",
   "version": "3.9.4"
  }
 },
 "nbformat": 4,
 "nbformat_minor": 5
}
