{
 "cells": [
  {
   "cell_type": "code",
   "execution_count": 1,
   "id": "a5677c30-e381-4a53-87b4-ce9d33024fcc",
   "metadata": {},
   "outputs": [],
   "source": [
    "from tqdm import tqdm\n",
    "import pandas as pd \n",
    "from binance.client import Client\n",
    "client = Client()"
   ]
  },
  {
   "cell_type": "code",
   "execution_count": 2,
   "id": "a1b348e6-4238-4c7a-a33a-9de77b3ed154",
   "metadata": {},
   "outputs": [],
   "source": [
    "from sqlalchemy import create_engine"
   ]
  },
  {
   "cell_type": "code",
   "execution_count": 3,
   "id": "efa606c0-f515-4e1d-a289-07ede41e0d5f",
   "metadata": {},
   "outputs": [],
   "source": [
    "coins = ('BTCUSDT','ETHUSDT','BNBUSDT','SOLUSDT','ADAUSDT','XRPUSDT','DOTUSDT','LUNAUSDT',\n",
    "  'DOGEUSDT','AVAXUSDT','SHIBUSDT','MATICUSDT','LTCUSDT','UNIUSDT','ALGOUSDT','TRXUSDT',\n",
    "         'LINKUSDT','MANAUSDT','ATOMUSDT','VETUSDT')"
   ]
  },
  {
   "cell_type": "code",
   "execution_count": 5,
   "id": "57e5e37f-ef89-4901-9591-5fd51d4db6ab",
   "metadata": {},
   "outputs": [],
   "source": [
    "from keys import binance_key"
   ]
  },
  {
   "cell_type": "code",
   "execution_count": null,
   "id": "58497423-afc0-4569-9689-5efdfe3b41ee",
   "metadata": {},
   "outputs": [],
   "source": []
  }
 ],
 "metadata": {
  "kernelspec": {
   "display_name": "Python 3",
   "language": "python",
   "name": "python3"
  },
  "language_info": {
   "codemirror_mode": {
    "name": "ipython",
    "version": 3
   },
   "file_extension": ".py",
   "mimetype": "text/x-python",
   "name": "python",
   "nbconvert_exporter": "python",
   "pygments_lexer": "ipython3",
   "version": "3.8.8"
  }
 },
 "nbformat": 4,
 "nbformat_minor": 5
}
