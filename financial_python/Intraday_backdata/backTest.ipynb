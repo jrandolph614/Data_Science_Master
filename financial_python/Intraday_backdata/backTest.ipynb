{
 "cells": [
  {
   "cell_type": "code",
   "execution_count": 1,
   "id": "a5677c30-e381-4a53-87b4-ce9d33024fcc",
   "metadata": {},
   "outputs": [],
   "source": [
    "from tqdm import tqdm\n",
    "import pandas as pd \n",
    "from binance.client import Client\n",
    "client = Client()"
   ]
  },
  {
   "cell_type": "code",
   "execution_count": 2,
   "id": "a1b348e6-4238-4c7a-a33a-9de77b3ed154",
   "metadata": {},
   "outputs": [],
   "source": [
    "from sqlalchemy import create_engine"
   ]
  },
  {
   "cell_type": "code",
   "execution_count": 3,
   "id": "efa606c0-f515-4e1d-a289-07ede41e0d5f",
   "metadata": {},
   "outputs": [],
   "source": [
    "coins = ('BTCUSDT','ETHUSDT','BNBUSDT','SOLUSDT','ADAUSDT','XRPUSDT','DOTUSDT','LUNAUSDT',\n",
    "  'DOGEUSDT','AVAXUSDT','SHIBUSDT','MATICUSDT','LTCUSDT','UNIUSDT','ALGOUSDT','TRXUSDT',\n",
    "         'LINKUSDT','MANAUSDT','ATOMUSDT','VETUSDT')"
   ]
  },
  {
   "cell_type": "code",
   "execution_count": 4,
   "id": "57e5e37f-ef89-4901-9591-5fd51d4db6ab",
   "metadata": {},
   "outputs": [],
   "source": [
    "from keys import key"
   ]
  },
  {
   "cell_type": "code",
   "execution_count": 15,
   "id": "58497423-afc0-4569-9689-5efdfe3b41ee",
   "metadata": {},
   "outputs": [],
   "source": [
    "def getminutedata(symbol, lookback):\n",
    "    frame = pd.DataFrame(client.get_historical_klines(symbol,'1m',lookback + ' days ago UTC'))\n",
    "    frame = frame.iloc[:,:5]\n",
    "    frame.columns = ['Time','Open','High','Low','Close']\n",
    "    frame[['Open','High','Low','Close']] = frame[['Open','High','Low','Close']].astype(float)\n",
    "    frame.Time = pd.to_datetime(frame.Time,unit='ms')\n",
    "    return frame"
   ]
  },
  {
   "cell_type": "code",
   "execution_count": 17,
   "id": "84a756ff-f068-4cfb-9baa-8f6579a30e4d",
   "metadata": {},
   "outputs": [],
   "source": [
    "#init db\n",
    "engine = create_engine('sqlite:///Cryptoprices.db')"
   ]
  },
  {
   "cell_type": "code",
   "execution_count": 18,
   "id": "c854b669-56d4-4fe1-ad40-6a23964d7d8d",
   "metadata": {},
   "outputs": [
    {
     "name": "stderr",
     "output_type": "stream",
     "text": [
      "100%|██████████████████████████████████████████████████████████████████████████████████| 20/20 [15:20<00:00, 46.05s/it]\n"
     ]
    }
   ],
   "source": [
    "#downloading the coin data 30 days back into respective table inside DB\n",
    "for coin in tqdm(coins):\n",
    "    getminutedata(coin,'30').to_sql(coin,engine,index=False)"
   ]
  },
  {
   "cell_type": "code",
   "execution_count": 22,
   "id": "6df2af54-783c-4692-b66e-d3855b86568e",
   "metadata": {},
   "outputs": [],
   "source": [
    "test = pd.read_sql('BTCUSDT',engine).set_index('Time')"
   ]
  },
  {
   "cell_type": "code",
   "execution_count": 54,
   "id": "72f0bf30-891d-4394-a8f9-36492fddcc73",
   "metadata": {},
   "outputs": [],
   "source": [
    "import numpy as np\n",
    "def technicals(df):\n",
    "    df = df.copy()\n",
    "    df = df.resample('60min').ffill()\n",
    "    df.dropna(inplace=True)\n",
    "    df['return'] = np.log(df.Close.pct_change()+1)\n",
    "    df['SMA_fast'] = df.Close.rolling(7).mean()\n",
    "    df['SMA_slow'] = df.Close.rolling(25).mean()\n",
    "    df['position'] = np.where(df['SMA_fast'] > df['SMA_slow'],1,0)\n",
    "    df['strategyreturn'] = df['position'].shift(1)* df['return']  #position * return \n",
    "    df.dropna(inplace=True)\n",
    "    return df"
   ]
  },
  {
   "cell_type": "code",
   "execution_count": 55,
   "id": "ef9ffa5c-31f4-4624-8b73-cbf05cea8c6f",
   "metadata": {},
   "outputs": [
    {
     "data": {
      "text/plain": [
       "return           -0.190407\n",
       "strategyreturn   -0.187937\n",
       "dtype: float64"
      ]
     },
     "execution_count": 55,
     "metadata": {},
     "output_type": "execute_result"
    }
   ],
   "source": [
    "np.exp(technicals(test)[['return','strategyreturn']].sum()) -1"
   ]
  },
  {
   "cell_type": "code",
   "execution_count": 56,
   "id": "d311548c-c6b1-4068-89e9-78a6ce991196",
   "metadata": {},
   "outputs": [
    {
     "name": "stdout",
     "output_type": "stream",
     "text": [
      "BTCUSDT\n",
      "-0.19040678709876113\n",
      "-0.21793689171205397\n",
      "ETHUSDT\n",
      "-0.04369188050226269\n",
      "-0.08557849059239006\n",
      "BNBUSDT\n",
      "-0.020802377414562145\n",
      "-0.0735539015602851\n",
      "SOLUSDT\n",
      "-0.1003738128914935\n",
      "-0.00022151740508511222\n",
      "ADAUSDT\n",
      "-0.31727574750830556\n",
      "-0.20466841305148872\n",
      "XRPUSDT\n",
      "-0.23688711516533623\n",
      "-0.13760815594244205\n",
      "DOTUSDT\n",
      "-0.36705643111336905\n",
      "-0.30718594166690694\n",
      "LUNAUSDT\n",
      "0.6146520146520107\n",
      "0.005729587204012811\n",
      "DOGEUSDT\n",
      "-0.250660792951541\n",
      "-0.17706288829256875\n",
      "AVAXUSDT\n",
      "0.1307169962053112\n",
      "0.40050544729350496\n",
      "SHIBUSDT\n",
      "-0.2867180417044418\n",
      "-0.025076789238317\n",
      "MATICUSDT\n",
      "0.40092470277411074\n",
      "0.014956843226891912\n",
      "LTCUSDT\n",
      "-0.2972714217328869\n",
      "-0.1602365577818731\n",
      "UNIUSDT\n",
      "-0.28128078817734037\n",
      "-0.19636484246501348\n",
      "ALGOUSDT\n",
      "-0.27969328397673177\n",
      "-0.26073821107691353\n",
      "TRXUSDT\n",
      "-0.216284987277353\n",
      "-0.0941421948939308\n",
      "LINKUSDT\n",
      "-0.3220213943194381\n",
      "-0.2965195967801114\n",
      "MANAUSDT\n",
      "-0.1507677989762689\n",
      "0.12989957179515144\n",
      "ATOMUSDT\n",
      "-0.18037735849056558\n",
      "-0.2671963508077146\n",
      "VETUSDT\n",
      "-0.38106870229007606\n",
      "-0.2801004362097758\n"
     ]
    }
   ],
   "source": [
    "for coin in coins:\n",
    "    df = pd.read_sql(coin,engine).set_index('Time')\n",
    "    print(coin)\n",
    "    trades = technicals(df).position.diff().value_counts().iloc[1:].sum()\n",
    "    costs = trades * 0.00075\n",
    "    print(np.exp(technicals(df)['return'].sum()) -1)\n",
    "    print(np.exp(technicals(df)['strategyreturn'].sum()) -1- costs)"
   ]
  },
  {
   "cell_type": "code",
   "execution_count": 39,
   "id": "07414ead-3044-45c2-9730-9389677f2059",
   "metadata": {},
   "outputs": [
    {
     "data": {
      "text/plain": [
       "1.62975"
      ]
     },
     "execution_count": 39,
     "metadata": {},
     "output_type": "execute_result"
    }
   ],
   "source": [
    "technicals(test).position.diff().value_counts().iloc[1:].sum() * 0.00075"
   ]
  },
  {
   "cell_type": "code",
   "execution_count": null,
   "id": "c2d6b944-ac3d-4cc9-aa53-580b76f1541f",
   "metadata": {},
   "outputs": [],
   "source": []
  }
 ],
 "metadata": {
  "kernelspec": {
   "display_name": "Python 3",
   "language": "python",
   "name": "python3"
  },
  "language_info": {
   "codemirror_mode": {
    "name": "ipython",
    "version": 3
   },
   "file_extension": ".py",
   "mimetype": "text/x-python",
   "name": "python",
   "nbconvert_exporter": "python",
   "pygments_lexer": "ipython3",
   "version": "3.8.8"
  }
 },
 "nbformat": 4,
 "nbformat_minor": 5
}
