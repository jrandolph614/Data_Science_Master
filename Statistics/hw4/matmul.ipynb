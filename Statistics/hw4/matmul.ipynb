{
 "cells": [
  {
   "cell_type": "code",
   "execution_count": 59,
   "id": "5136e50a-e174-4309-bd70-fde1406b42f9",
   "metadata": {},
   "outputs": [],
   "source": [
    "import numpy as np \n",
    "x= np.array([[1,3.2,2],\n",
    "   [1,3.6,5],\n",
    "   [1,2.8,3],\n",
    "   [1,2.4,4]])\n",
    "xt = np.transpose(x)"
   ]
  },
  {
   "cell_type": "code",
   "execution_count": 60,
   "id": "499ef941-5f0f-4ee3-bb04-644aa7f1abdb",
   "metadata": {},
   "outputs": [
    {
     "data": {
      "text/plain": [
       "array([[ 4. , 12. , 14. ],\n",
       "       [12. , 36.8, 42.4],\n",
       "       [14. , 42.4, 54. ]])"
      ]
     },
     "execution_count": 60,
     "metadata": {},
     "output_type": "execute_result"
    }
   ],
   "source": [
    "xx = np.matmul(xt,x)\n",
    "xx"
   ]
  },
  {
   "cell_type": "code",
   "execution_count": 67,
   "id": "69346e6a-ed09-4b83-bd3c-ecc8a953c27f",
   "metadata": {},
   "outputs": [],
   "source": [
    "y= np.array([[40,46,38,39]])\n",
    "\n",
    "xy =np.matmul(xt,y.reshape(4,1))"
   ]
  },
  {
   "cell_type": "code",
   "execution_count": 68,
   "id": "8622a45e-0718-428d-8068-ff8c6a422e7e",
   "metadata": {},
   "outputs": [
    {
     "data": {
      "text/plain": [
       "array([[163. ],\n",
       "       [493.6],\n",
       "       [580. ]])"
      ]
     },
     "execution_count": 68,
     "metadata": {},
     "output_type": "execute_result"
    }
   ],
   "source": [
    "xy"
   ]
  },
  {
   "cell_type": "code",
   "execution_count": 75,
   "id": "3d349c65-a7d4-4c59-9313-6738a28c7c95",
   "metadata": {},
   "outputs": [
    {
     "data": {
      "text/plain": [
       "array([[20.5],\n",
       "       [ 5. ],\n",
       "       [ 1.5]])"
      ]
     },
     "execution_count": 75,
     "metadata": {},
     "output_type": "execute_result"
    }
   ],
   "source": [
    "np.matmul(np.linalg.inv(xx),xy)"
   ]
  },
  {
   "cell_type": "code",
   "execution_count": 48,
   "id": "dc05cb18-a015-4c93-bc91-fa3a97b72a08",
   "metadata": {},
   "outputs": [
    {
     "data": {
      "text/plain": [
       "array([[15.24, 22.52, 15.96, 16.68],\n",
       "       [22.52, 38.96, 26.08, 29.64],\n",
       "       [15.96, 26.08, 17.84, 19.72],\n",
       "       [16.68, 29.64, 19.72, 22.76]])"
      ]
     },
     "execution_count": 48,
     "metadata": {},
     "output_type": "execute_result"
    }
   ],
   "source": [
    "xx"
   ]
  },
  {
   "cell_type": "code",
   "execution_count": 71,
   "id": "5d241e6a-e761-463d-aea9-07a2b837ef78",
   "metadata": {},
   "outputs": [
    {
     "name": "stdout",
     "output_type": "stream",
     "text": [
      "(4, 3) (3, 4) (1, 4) (3, 3) (3, 1) (3, 3)\n"
     ]
    }
   ],
   "source": [
    "print(x.shape,xt.shape,y.shape,xx.shape,xy.shape,np.linalg.inv(xx).shape)"
   ]
  },
  {
   "cell_type": "code",
   "execution_count": null,
   "id": "493c546b-dcca-43c3-adea-be06a6968625",
   "metadata": {},
   "outputs": [],
   "source": []
  }
 ],
 "metadata": {
  "kernelspec": {
   "display_name": "Python 3",
   "language": "python",
   "name": "python3"
  },
  "language_info": {
   "codemirror_mode": {
    "name": "ipython",
    "version": 3
   },
   "file_extension": ".py",
   "mimetype": "text/x-python",
   "name": "python",
   "nbconvert_exporter": "python",
   "pygments_lexer": "ipython3",
   "version": "3.9.4"
  }
 },
 "nbformat": 4,
 "nbformat_minor": 5
}
