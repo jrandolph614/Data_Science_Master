{
 "cells": [
  {
   "cell_type": "code",
   "execution_count": 2,
   "id": "197cacd3-281a-455d-8d42-5d343e9fc20f",
   "metadata": {},
   "outputs": [],
   "source": [
    "import numpy as np\n",
    "sample = [57,75,116,37,96,61,56,2,43,32]\n",
    "mean = np.average(sample)"
   ]
  },
  {
   "cell_type": "code",
   "execution_count": 3,
   "id": "97f89888-f271-44a5-a591-3150e8615e80",
   "metadata": {},
   "outputs": [
    {
     "data": {
      "text/plain": [
       "57.5"
      ]
     },
     "execution_count": 3,
     "metadata": {},
     "output_type": "execute_result"
    }
   ],
   "source": [
    "mean "
   ]
  },
  {
   "cell_type": "code",
   "execution_count": 5,
   "id": "01ed2d12-961d-42be-a8f5-0c95f42fea86",
   "metadata": {},
   "outputs": [
    {
     "data": {
      "text/plain": [
       "57.5"
      ]
     },
     "execution_count": 5,
     "metadata": {},
     "output_type": "execute_result"
    }
   ],
   "source": [
    "sum(sample)/len(sample)"
   ]
  },
  {
   "cell_type": "code",
   "execution_count": 6,
   "id": "a496a67c-77b5-49f1-b847-91cb23844c8b",
   "metadata": {},
   "outputs": [
    {
     "data": {
      "text/plain": [
       "30.962073573971107"
      ]
     },
     "execution_count": 6,
     "metadata": {},
     "output_type": "execute_result"
    }
   ],
   "source": [
    "np.std(sample)"
   ]
  },
  {
   "cell_type": "code",
   "execution_count": 7,
   "id": "87dc9a84-487e-4b27-b31e-091a7ebdbb05",
   "metadata": {},
   "outputs": [
    {
     "data": {
      "text/plain": [
       "10"
      ]
     },
     "execution_count": 7,
     "metadata": {},
     "output_type": "execute_result"
    }
   ],
   "source": [
    "len(sample)"
   ]
  },
  {
   "cell_type": "code",
   "execution_count": 8,
   "id": "50ba4f12-a589-491e-8383-b5cec8995d3d",
   "metadata": {},
   "outputs": [],
   "source": [
    "t = (np.std(sample)-70)/(30.96/np.sqrt(10))"
   ]
  },
  {
   "cell_type": "code",
   "execution_count": 9,
   "id": "3e0cd3d2-0176-424b-8f2a-2b65bf2f583d",
   "metadata": {},
   "outputs": [
    {
     "data": {
      "text/plain": [
       "-3.98736313424832"
      ]
     },
     "execution_count": 9,
     "metadata": {},
     "output_type": "execute_result"
    }
   ],
   "source": [
    "t\n"
   ]
  },
  {
   "cell_type": "code",
   "execution_count": 11,
   "id": "5b194969-6e67-4352-b6ce-2569cf76ae80",
   "metadata": {},
   "outputs": [
    {
     "name": "stdout",
     "output_type": "stream",
     "text": [
      "17.818181818181817\n",
      "14.142857142857142\n"
     ]
    }
   ],
   "source": [
    "B = [21,13,10,20,25,19,16,21,24,13,14]\n",
    "N = [13,6,16,13,8,19,23,18,11,19,7,10,15,20]\n",
    "print(np.average(B))\n",
    "print(np.average(N))"
   ]
  },
  {
   "cell_type": "code",
   "execution_count": 13,
   "id": "d9fcfab9-e812-40f5-98fe-ded95cd072c6",
   "metadata": {},
   "outputs": [
    {
     "data": {
      "text/plain": [
       "5.097017935688935"
      ]
     },
     "execution_count": 13,
     "metadata": {},
     "output_type": "execute_result"
    }
   ],
   "source": [
    "np.std(N)"
   ]
  },
  {
   "cell_type": "code",
   "execution_count": 14,
   "id": "83db4ace-f796-4b85-b4e3-de789f53c866",
   "metadata": {},
   "outputs": [
    {
     "data": {
      "text/plain": [
       "4.9259340319330835"
      ]
     },
     "execution_count": 14,
     "metadata": {},
     "output_type": "execute_result"
    }
   ],
   "source": [
    "np.sqrt((((11-1)*4.69**2)+((14-1)*5.10**2))/23)"
   ]
  },
  {
   "cell_type": "code",
   "execution_count": 15,
   "id": "daf377f4-f4ee-4e65-9adf-91eca3991a1b",
   "metadata": {},
   "outputs": [
    {
     "data": {
      "text/plain": [
       "0.40291148201269017"
      ]
     },
     "execution_count": 15,
     "metadata": {},
     "output_type": "execute_result"
    }
   ],
   "source": [
    "np.sqrt((1/11)+(1/14))"
   ]
  },
  {
   "cell_type": "code",
   "execution_count": 16,
   "id": "4eee2988-cd95-4d2b-b8dc-ce6aed7fb0bf",
   "metadata": {},
   "outputs": [],
   "source": [
    "var = 1.714 * 4.93 * 0.40"
   ]
  },
  {
   "cell_type": "code",
   "execution_count": 17,
   "id": "e8cf5904-500a-4bb8-9787-6d6de37bbd52",
   "metadata": {},
   "outputs": [
    {
     "data": {
      "text/plain": [
       "7.060008"
      ]
     },
     "execution_count": 17,
     "metadata": {},
     "output_type": "execute_result"
    }
   ],
   "source": [
    "(17.82-14.14)+var"
   ]
  },
  {
   "cell_type": "code",
   "execution_count": 18,
   "id": "cd56ae49-735f-4aa3-899d-0f36c59dfa6e",
   "metadata": {},
   "outputs": [
    {
     "data": {
      "text/plain": [
       "0.29999200000000004"
      ]
     },
     "execution_count": 18,
     "metadata": {},
     "output_type": "execute_result"
    }
   ],
   "source": [
    "(17.82-14.14)-var"
   ]
  },
  {
   "cell_type": "code",
   "execution_count": 19,
   "id": "08073a2f-afbd-40c0-ba84-cccfb38e49d3",
   "metadata": {},
   "outputs": [
    {
     "data": {
      "text/plain": [
       "1.866125760649087"
      ]
     },
     "execution_count": 19,
     "metadata": {},
     "output_type": "execute_result"
    }
   ],
   "source": [
    "(17.82-14.14)/(4.93*0.4)"
   ]
  },
  {
   "cell_type": "code",
   "execution_count": 21,
   "id": "341f26c7-6dd2-4104-be30-b36ddf320418",
   "metadata": {},
   "outputs": [
    {
     "data": {
      "text/plain": [
       "13"
      ]
     },
     "execution_count": 21,
     "metadata": {},
     "output_type": "execute_result"
    }
   ],
   "source": [
    "bc=[3.6,0.27,0.29,4.55,2.60,2.29,2.4,0.73,3.15,3.21,0.88,1.35,7.35]\n",
    "ac=[1.36,0,0,1.79,2.04,3.14,2.27,0.24,1.57,0.43,0.28,1.09,4.92]\n",
    "len(bc)"
   ]
  },
  {
   "cell_type": "code",
   "execution_count": null,
   "id": "f67f39f4-2905-4105-aafc-6291937a903c",
   "metadata": {},
   "outputs": [],
   "source": []
  }
 ],
 "metadata": {
  "kernelspec": {
   "display_name": "Python 3",
   "language": "python",
   "name": "python3"
  },
  "language_info": {
   "codemirror_mode": {
    "name": "ipython",
    "version": 3
   },
   "file_extension": ".py",
   "mimetype": "text/x-python",
   "name": "python",
   "nbconvert_exporter": "python",
   "pygments_lexer": "ipython3",
   "version": "3.9.4"
  }
 },
 "nbformat": 4,
 "nbformat_minor": 5
}
