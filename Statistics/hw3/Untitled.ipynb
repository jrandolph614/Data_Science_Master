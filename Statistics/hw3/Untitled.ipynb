{
 "cells": [
  {
   "cell_type": "code",
   "execution_count": 1,
   "id": "7f977d88-de31-4480-a9c2-25c553f0cdbd",
   "metadata": {},
   "outputs": [],
   "source": [
    "import numpy as np"
   ]
  },
  {
   "cell_type": "code",
   "execution_count": 36,
   "id": "c0be5e6d-f686-418f-ad05-f0167b9169cc",
   "metadata": {},
   "outputs": [],
   "source": [
    "x = [80,70,45,90,20]\n",
    "y = [25,15,10,40,5]\n"
   ]
  },
  {
   "cell_type": "code",
   "execution_count": 31,
   "id": "48df5cf3-9f5b-4ac1-93aa-ca4379f20428",
   "metadata": {},
   "outputs": [],
   "source": [
    " b1 = np.corrcoef(x,y)[1,0] * (np.std(y)/np.std(x))"
   ]
  },
  {
   "cell_type": "code",
   "execution_count": 33,
   "id": "26958ab9-99ca-4cc0-b34a-a3388510f750",
   "metadata": {},
   "outputs": [
    {
     "name": "stdout",
     "output_type": "stream",
     "text": [
      "28.28\n",
      "23.880000000000003\n",
      "12.88\n",
      "28.28\n",
      "1.8800000000000008\n"
     ]
    }
   ],
   "source": [
    "for i in x:\n",
    "    print(-6.92+0.44*i)"
   ]
  },
  {
   "cell_type": "code",
   "execution_count": 32,
   "id": "50fc03e0-7b9c-4927-9c4a-f87ea2c621c3",
   "metadata": {},
   "outputs": [
    {
     "data": {
      "text/plain": [
       "-6.9209558823529385"
      ]
     },
     "execution_count": 32,
     "metadata": {},
     "output_type": "execute_result"
    }
   ],
   "source": [
    "np.mean(y)-b1*np.mean(x)"
   ]
  },
  {
   "cell_type": "code",
   "execution_count": 29,
   "id": "2a29c5a7-568c-4309-a093-4707088dc4ad",
   "metadata": {},
   "outputs": [
    {
     "data": {
      "text/plain": [
       "0.8257300517790307"
      ]
     },
     "execution_count": 29,
     "metadata": {},
     "output_type": "execute_result"
    }
   ],
   "source": [
    "np.corrcoef(x,y)[1,0]"
   ]
  },
  {
   "cell_type": "code",
   "execution_count": 17,
   "id": "cf5012e7-dbf9-46f3-93bf-aa06b5b9bfe0",
   "metadata": {},
   "outputs": [],
   "source": [
    "res  = [round(-6.92+0.44*i)for i in x]"
   ]
  },
  {
   "cell_type": "code",
   "execution_count": 18,
   "id": "3eb44919-9520-457f-b5bd-412a0b05346a",
   "metadata": {},
   "outputs": [
    {
     "data": {
      "text/plain": [
       "[28, 24, 13, 28, 2]"
      ]
     },
     "execution_count": 18,
     "metadata": {},
     "output_type": "execute_result"
    }
   ],
   "source": [
    "res"
   ]
  },
  {
   "cell_type": "code",
   "execution_count": 28,
   "id": "afbe2035-ca15-4520-bae6-0a47cc92505d",
   "metadata": {},
   "outputs": [
    {
     "data": {
      "text/plain": [
       "770"
      ]
     },
     "execution_count": 28,
     "metadata": {},
     "output_type": "execute_result"
    }
   ],
   "source": [
    "val = 0\n",
    "for i in range(len(res)):\n",
    "    val+=(y[i]-round(np.mean(y)))**2\n",
    "val\n"
   ]
  },
  {
   "cell_type": "code",
   "execution_count": 43,
   "id": "523dbd6d-ef8b-4574-a2f0-efb68b358869",
   "metadata": {},
   "outputs": [
    {
     "data": {
      "text/plain": [
       "-54.529845505617985"
      ]
     },
     "execution_count": 43,
     "metadata": {},
     "output_type": "execute_result"
    }
   ],
   "source": [
    "t,b = 0,0\n",
    "for i in range(len(x)):\n",
    "    t+= (x[i]*y[i])-(len(x)*np.mean(x)*np.mean(x))\n",
    "    b+= (x[i]**2)-(len(x)*np.mean(x)**2)\n",
    "b1 = t/b\n",
    "b0 = np.mean(y)-b1*np.mean(x)\n",
    "b0"
   ]
  },
  {
   "cell_type": "code",
   "execution_count": 47,
   "id": "6a3ed92f-daeb-49b7-ac01-30040af461e5",
   "metadata": {},
   "outputs": [
    {
     "data": {
      "text/plain": [
       "7200"
      ]
     },
     "execution_count": 47,
     "metadata": {},
     "output_type": "execute_result"
    }
   ],
   "source": [
    "val = 0\n",
    "for i in range(len(x)):\n",
    "    val+=(x[i]*y[i])\n",
    "val"
   ]
  },
  {
   "cell_type": "code",
   "execution_count": 49,
   "id": "f3eac0ea-55b3-44c6-b0e8-0a684fd24243",
   "metadata": {},
   "outputs": [
    {
     "data": {
      "text/plain": [
       "2575"
      ]
     },
     "execution_count": 49,
     "metadata": {},
     "output_type": "execute_result"
    }
   ],
   "source": [
    "val = 0\n",
    "for i in range(len(x)):\n",
    "    val+=(y[i]**2)\n",
    "val"
   ]
  },
  {
   "cell_type": "code",
   "execution_count": 61,
   "id": "4f68302b-bc60-4c66-b22e-76cdeda2a1a9",
   "metadata": {},
   "outputs": [],
   "source": [
    "x = [1.55, 1.95, 1.98 ,1.64, 0.89, 1.47, 2.28, 2.60]\n",
    "y= [12.42, 13.26, 14.24 ,14.87, 15.41, 17.14, 19.07, 20.46]\n",
    "Ex,Ey = sum(x),sum(y)\n",
    "Exy = 0\n",
    "for i in range(len(x)):\n",
    "    Exy+=x[i]*y[i]\n",
    "Ex2 = 0\n",
    "for i in range(len(x)):\n",
    "    Ex2+=x[i]**2\n",
    "Ey2 =0 \n",
    "for i in range(len(x)):\n",
    "    Ey2+=y[i]**2\n",
    "xmean = np.mean(x)\n",
    "ymean = np.mean(y)"
   ]
  },
  {
   "cell_type": "code",
   "execution_count": 62,
   "id": "a8d918f1-3729-4c59-bb53-a4767f6983fc",
   "metadata": {},
   "outputs": [
    {
     "name": "stdout",
     "output_type": "stream",
     "text": [
      "14.36 126.87 233.2763 27.726399999999998 2067.5027 1.795 15.85875\n"
     ]
    }
   ],
   "source": [
    "print(Ex,Ey,Exy,Ex2,Ey2,xmean,ymean)"
   ]
  },
  {
   "cell_type": "code",
   "execution_count": 63,
   "id": "99aaabf0-15cf-41d8-9c4b-7a98c63653b1",
   "metadata": {},
   "outputs": [],
   "source": [
    "def b1maker(Exy,xmean,ymean,Ex2,n):\n",
    "    return (Exy-n*xmean*ymean)/(Ex2-n*xmean**2)\n",
    "b1 = b1maker(Exy,xmean,ymean,Ex2,len(x))\n",
    "def b0maker(xmean,ymean,b1):\n",
    "    return ymean-b1*xmean\n",
    "b0 = b0maker(xmean,ymean,b1)"
   ]
  },
  {
   "cell_type": "code",
   "execution_count": 67,
   "id": "e7fd7d14-0914-464f-9434-83ca1db8e834",
   "metadata": {},
   "outputs": [
    {
     "data": {
      "text/plain": [
       "61.93148779612342"
      ]
     },
     "execution_count": 67,
     "metadata": {},
     "output_type": "execute_result"
    }
   ],
   "source": [
    "def linreg(b0,b1,test):\n",
    "    return b0+b1*test\n",
    "lin = linreg(b0,b1,18)\n",
    "lin"
   ]
  },
  {
   "cell_type": "code",
   "execution_count": 65,
   "id": "29ada1bf-d14a-4a3f-b2aa-7581d8fe2eb1",
   "metadata": {},
   "outputs": [
    {
     "data": {
      "text/plain": [
       "2.8431186544969713"
      ]
     },
     "execution_count": 65,
     "metadata": {},
     "output_type": "execute_result"
    }
   ],
   "source": [
    "b1"
   ]
  },
  {
   "cell_type": "code",
   "execution_count": 66,
   "id": "1bc59e84-ca74-43b8-bfef-798cea5b833d",
   "metadata": {},
   "outputs": [
    {
     "data": {
      "text/plain": [
       "10.755352015177937"
      ]
     },
     "execution_count": 66,
     "metadata": {},
     "output_type": "execute_result"
    }
   ],
   "source": [
    "b0"
   ]
  },
  {
   "cell_type": "code",
   "execution_count": 74,
   "id": "83709ed6-54d1-4bf2-9583-fbe03068e0f8",
   "metadata": {},
   "outputs": [
    {
     "data": {
      "text/plain": [
       "1.7226066604256844"
      ]
     },
     "execution_count": 74,
     "metadata": {},
     "output_type": "execute_result"
    }
   ],
   "source": [
    "def S(Ey2,b1,Exy,b0,Ey,n):\n",
    "    return np.sqrt((Ey2-b1*Exy-b0*Ey)/n-2)\n",
    "s = S(Ey2,b1,Exy,b0,Ey,len(x))\n",
    "s"
   ]
  },
  {
   "cell_type": "code",
   "execution_count": 97,
   "id": "de962612-7859-468f-91f8-427ce0a78068",
   "metadata": {},
   "outputs": [
    {
     "name": "stdout",
     "output_type": "stream",
     "text": [
      "(-31.112192220195432, 67.12280138848587) (-30.930984867937397, 66.94159403622783)\n"
     ]
    }
   ],
   "source": [
    "def predint(b0,b1,x,n,s,xmean,Ex2,t):\n",
    "    inn = 1+(1/8)+(((18-xmean)**2)/(Ex2-8*xmean**2))\n",
    "    plus  = ((b0+b1*x) + (t*s*np.sqrt(inn)))\n",
    "    minus = ((b0+b1*x) - (t*s*np.sqrt(inn)))\n",
    "    return (minus,plus)\n",
    "pred = predint(b0,b1,2.55,8,s,xmean,Ex2,2.447)\n",
    "def confidence(b0,b1,x,n,s,xmean,Ex2,t):\n",
    "    inn = (1/8)+(((18-xmean)**2)/(Ex2-8*xmean**2))\n",
    "    plus  = (b0+b1*x) + (t*s*np.sqrt(inn))\n",
    "    minus = (b0+b1*x) - (t*s*np.sqrt(inn))\n",
    "    return (minus,plus)\n",
    "con = confidence(b0,b1,2.55,8,s,xmean,Ex2,2.447)\n",
    "print(pred,con)"
   ]
  },
  {
   "cell_type": "code",
   "execution_count": 86,
   "id": "49df019c-19df-4a42-a8b0-0746f3afba36",
   "metadata": {},
   "outputs": [
    {
     "name": "stdout",
     "output_type": "stream",
     "text": [
      "(10.755352015177937, 2.8431186544969713, 18, 8, 1.7226066604256844, 1.795, 27.726399999999998, 2.447)\n"
     ]
    }
   ],
   "source": [
    "print((b0,b1,18,8,s,xmean,Ex2,2.447))"
   ]
  },
  {
   "cell_type": "code",
   "execution_count": 95,
   "id": "97218f2d-8c70-45df-b78a-2a1647dffa16",
   "metadata": {},
   "outputs": [
    {
     "data": {
      "text/plain": [
       "135.77889447236188"
      ]
     },
     "execution_count": 95,
     "metadata": {},
     "output_type": "execute_result"
    }
   ],
   "source": [
    "1+(1/8)+(((18-xmean)**2)/(Ex2-8*xmean**2))"
   ]
  },
  {
   "cell_type": "code",
   "execution_count": 90,
   "id": "d7d4965c-d8cf-4b26-a723-ab15dc6ab3a7",
   "metadata": {},
   "outputs": [
    {
     "data": {
      "text/plain": [
       "1.9501999999999988"
      ]
     },
     "execution_count": 90,
     "metadata": {},
     "output_type": "execute_result"
    }
   ],
   "source": [
    "Ex2-8*xmean**2"
   ]
  },
  {
   "cell_type": "code",
   "execution_count": 92,
   "id": "7585980a-a4ee-4d5c-952e-ae22b62849cd",
   "metadata": {},
   "outputs": [
    {
     "data": {
      "text/plain": [
       "-16.305009185469444"
      ]
     },
     "execution_count": 92,
     "metadata": {},
     "output_type": "execute_result"
    }
   ],
   "source": [
    "(((18-xmean)**2)/Ex2-8*xmean**2)"
   ]
  },
  {
   "cell_type": "code",
   "execution_count": 103,
   "id": "e026fca6-ef68-464f-8609-f32402b23e60",
   "metadata": {},
   "outputs": [
    {
     "data": {
      "text/plain": [
       "0.9721360204897984"
      ]
     },
     "execution_count": 103,
     "metadata": {},
     "output_type": "execute_result"
    }
   ],
   "source": [
    "def rsquared(Exy,b0,Ey,n,ymean,Ey2,b1):\n",
    "    return((b1*Exy+b0*Ey-n*ymean**2)/(Ey2-n*ymean**2))\n",
    "r2 = rsquared(Exy,b0,Ey,2.55,ymean,Ey2,b1)\n",
    "sample = np.sqrt(r2)\n",
    "r2"
   ]
  },
  {
   "cell_type": "code",
   "execution_count": null,
   "id": "62b1157a-af90-475e-9bb1-67cd8eab89ae",
   "metadata": {},
   "outputs": [],
   "source": []
  }
 ],
 "metadata": {
  "kernelspec": {
   "display_name": "Python 3",
   "language": "python",
   "name": "python3"
  },
  "language_info": {
   "codemirror_mode": {
    "name": "ipython",
    "version": 3
   },
   "file_extension": ".py",
   "mimetype": "text/x-python",
   "name": "python",
   "nbconvert_exporter": "python",
   "pygments_lexer": "ipython3",
   "version": "3.9.4"
  }
 },
 "nbformat": 4,
 "nbformat_minor": 5
}
